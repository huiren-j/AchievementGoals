{
 "cells": [
  {
   "cell_type": "code",
   "execution_count": 1,
   "metadata": {},
   "outputs": [],
   "source": [
    "import pandas as pd\n",
    "import pyreadstat\n",
    "import numpy as np\n",
    "import seaborn as sns\n",
    "import matplotlib.pyplot as plt \n",
    "\n",
    "import econtools as econ\n",
    "import econtools.metrics as mt\n",
    "import math"
   ]
  },
  {
   "cell_type": "code",
   "execution_count": 6,
   "metadata": {},
   "outputs": [],
   "source": [
    "df, meta = pyreadstat.read_sav(\"df.sav\")"
   ]
  },
  {
   "cell_type": "code",
   "execution_count": 7,
   "metadata": {},
   "outputs": [
    {
     "data": {
      "text/plain": [
       "0.0    1487\n",
       "7.0     913\n",
       "1.0     210\n",
       "5.0      64\n",
       "2.0      60\n",
       "3.0       9\n",
       "4.0       3\n",
       "6.0       1\n",
       "Name: schooltype, dtype: int64"
      ]
     },
     "execution_count": 7,
     "metadata": {},
     "output_type": "execute_result"
    }
   ],
   "source": [
    "# school type F3S01003\n",
    "\n",
    "df['schooltype'].value_counts()"
   ]
  },
  {
   "cell_type": "code",
   "execution_count": 8,
   "metadata": {},
   "outputs": [],
   "source": [
    "#pyreadstat.write_sav(df, 'df.sav')\n",
    "\n",
    "### educational background ### 0. 둘다 고졸 이하 / 1. 한명 대졸 / 2. 두명 대졸 이상"
   ]
  },
  {
   "cell_type": "code",
   "execution_count": 9,
   "metadata": {},
   "outputs": [],
   "source": [
    "df_HH1, meta = pyreadstat.read_sav(\"C:/Users/thxkn/OneDrive/바탕 화면/CV/박사지원서류/WS_HJ/KEEP/KEEPData_1-12Wave_Ver12/DATA(수능, 직업력, 가중치, 패널조사현황 자료 포함)/1-12차년도 DATA(SPSS)/1차년도(2004) DATA/중학교 3학년생 코호트/by_m_household.sav\")\n",
    "df_HH3, meta = pyreadstat.read_sav(\"C:/Users/thxkn/OneDrive/바탕 화면/CV/박사지원서류/WS_HJ/KEEP/KEEPData_1-12Wave_Ver12/DATA(수능, 직업력, 가중치, 패널조사현황 자료 포함)/1-12차년도 DATA(SPSS)/3차년도(2006) DATA/중학교 3학년생 코호트/f2_m_household.sav\")\n",
    "df_HH4, meta = pyreadstat.read_sav(\"C:/Users/thxkn/OneDrive/바탕 화면/CV/박사지원서류/WS_HJ/KEEP/KEEPData_1-12Wave_Ver12/DATA(수능, 직업력, 가중치, 패널조사현황 자료 포함)/1-12차년도 DATA(SPSS)/4차년도(2007) DATA/중학교 3학년생 코호트/f3_m_household.sav\")\n"
   ]
  },
  {
   "cell_type": "code",
   "execution_count": 10,
   "metadata": {},
   "outputs": [
    {
     "name": "stdout",
     "output_type": "stream",
     "text": [
      "1951\n",
      "1684\n",
      "2711\n"
     ]
    }
   ],
   "source": [
    "print(len(df_HH1))\n",
    "print(len(df_HH3))\n",
    "print(len(df_HH4))"
   ]
  },
  {
   "cell_type": "code",
   "execution_count": 11,
   "metadata": {},
   "outputs": [
    {
     "data": {
      "text/plain": [
       "2002.0    1564\n",
       "2001.0     346\n",
       "1002.0      22\n",
       "1001.0       5\n",
       "4011.0       4\n",
       "4001.0       4\n",
       "1004.0       3\n",
       "3001.0       2\n",
       "4002.0       1\n",
       "Name: BYH01001, dtype: int64"
      ]
     },
     "execution_count": 11,
     "metadata": {},
     "output_type": "execute_result"
    }
   ],
   "source": [
    "#관계\n",
    "df_HH1.BYH01001.value_counts()\n",
    "#2002 mother/ 2001 father"
   ]
  },
  {
   "cell_type": "code",
   "execution_count": 12,
   "metadata": {},
   "outputs": [
    {
     "data": {
      "text/plain": [
       "1.0    1919\n",
       "2.0      32\n",
       "Name: BYH01006, dtype: int64"
      ]
     },
     "execution_count": 12,
     "metadata": {},
     "output_type": "execute_result"
    }
   ],
   "source": [
    "#residence\n",
    "df_HH1.BYH01006.value_counts()"
   ]
  },
  {
   "cell_type": "code",
   "execution_count": 13,
   "metadata": {},
   "outputs": [
    {
     "data": {
      "text/plain": [
       "-5.0    1919\n",
       " 1.0      23\n",
       " 5.0       5\n",
       " 3.0       2\n",
       " 7.0       1\n",
       " 4.0       1\n",
       "Name: BYH01007, dtype: int64"
      ]
     },
     "execution_count": 13,
     "metadata": {},
     "output_type": "execute_result"
    }
   ],
   "source": [
    "#residence_not\n",
    "df_HH1.BYH01007.value_counts()\n",
    "#대부분 1: 학업, 직장/ 5: 불화"
   ]
  },
  {
   "cell_type": "code",
   "execution_count": 14,
   "metadata": {},
   "outputs": [
    {
     "data": {
      "text/plain": [
       " 5.0    965\n",
       " 7.0    378\n",
       " 4.0    239\n",
       " 3.0    126\n",
       " 6.0     99\n",
       " 2.0     71\n",
       " 8.0     52\n",
       " 9.0     17\n",
       "-3.0      4\n",
       "Name: BYH01008, dtype: int64"
      ]
     },
     "execution_count": 14,
     "metadata": {},
     "output_type": "execute_result"
    }
   ],
   "source": [
    "#eduational background \n",
    "#5. highschool/ 7.4년제 대학/ 4 중학교 /3. 초등학교\n",
    "df_HH1.BYH01008.value_counts()"
   ]
  },
  {
   "cell_type": "code",
   "execution_count": 16,
   "metadata": {},
   "outputs": [
    {
     "data": {
      "text/plain": [
       "3.0    1226\n",
       "5.0     381\n",
       "2.0     178\n",
       "4.0     140\n",
       "1.0      26\n",
       "Name: BYH05001, dtype: int64"
      ]
     },
     "execution_count": 16,
     "metadata": {},
     "output_type": "execute_result"
    }
   ],
   "source": [
    "df_HH1.BYH05001.value_counts() \n",
    "#5. 박사로 갈 수록 학력수준 높아짐 1= 고등학교 이하\n"
   ]
  },
  {
   "cell_type": "code",
   "execution_count": 30,
   "metadata": {},
   "outputs": [
    {
     "data": {
      "text/plain": [
       "1.0    1042\n",
       "3.0     501\n",
       "2.0     408\n",
       "Name: BYH06002, dtype: int64"
      ]
     },
     "execution_count": 30,
     "metadata": {},
     "output_type": "execute_result"
    }
   ],
   "source": [
    "df_HH1.BYH06002.value_counts()\n",
    "#고교평준화\n",
    "#1. 찬성 2. 반대 3. 모르겠다"
   ]
  },
  {
   "cell_type": "code",
   "execution_count": 32,
   "metadata": {
    "scrolled": true
   },
   "outputs": [
    {
     "data": {
      "text/plain": [
       "4.0    733\n",
       "3.0    570\n",
       "5.0    391\n",
       "2.0    228\n",
       "1.0     29\n",
       "Name: BYH06001, dtype: int64"
      ]
     },
     "execution_count": 32,
     "metadata": {},
     "output_type": "execute_result"
    }
   ],
   "source": [
    "df_HH1.BYH06001.value_counts()\n",
    "#정부정책 1관심없음"
   ]
  },
  {
   "cell_type": "code",
   "execution_count": 36,
   "metadata": {},
   "outputs": [
    {
     "data": {
      "text/plain": [
       "2.0     691\n",
       "1.0     508\n",
       "8.0     411\n",
       "6.0     127\n",
       "4.0      78\n",
       "3.0      51\n",
       "7.0      30\n",
       "10.0     29\n",
       "5.0      20\n",
       "9.0       6\n",
       "Name: BYH07001, dtype: int64"
      ]
     },
     "execution_count": 36,
     "metadata": {},
     "output_type": "execute_result"
    }
   ],
   "source": [
    "#삶 중요 1 #2. 소질 적성/ 1. 배우자\n",
    "df_HH1.BYH07001.value_counts()"
   ]
  },
  {
   "cell_type": "code",
   "execution_count": 34,
   "metadata": {},
   "outputs": [
    {
     "data": {
      "text/plain": [
       "1.0    849\n",
       "3.0    726\n",
       "4.0    197\n",
       "2.0    179\n",
       "Name: BYH07003, dtype: int64"
      ]
     },
     "execution_count": 34,
     "metadata": {},
     "output_type": "execute_result"
    }
   ],
   "source": [
    "# 직업이유 1. money / 3. 자아실현\n",
    "df_HH1.BYH07003.value_counts()"
   ]
  },
  {
   "cell_type": "code",
   "execution_count": 33,
   "metadata": {},
   "outputs": [
    {
     "data": {
      "text/plain": [
       "2.0    1237\n",
       "4.0     346\n",
       "3.0     236\n",
       "1.0      61\n",
       "5.0      43\n",
       "7.0      13\n",
       "8.0      10\n",
       "6.0       5\n",
       "Name: BYH07004, dtype: int64"
      ]
     },
     "execution_count": 33,
     "metadata": {},
     "output_type": "execute_result"
    }
   ],
   "source": [
    "# 성공요인 = 자식과 비교하기\n",
    "df_HH1.BYH07004.value_counts()"
   ]
  },
  {
   "cell_type": "markdown",
   "metadata": {},
   "source": [
    "보호자"
   ]
  },
  {
   "cell_type": "code",
   "execution_count": 37,
   "metadata": {},
   "outputs": [
    {
     "data": {
      "text/plain": [
       "1.0    1767\n",
       "3.0      97\n",
       "2.0      63\n",
       "4.0      18\n",
       "6.0       6\n",
       "Name: BYH10001, dtype: int64"
      ]
     },
     "execution_count": 37,
     "metadata": {},
     "output_type": "execute_result"
    }
   ],
   "source": [
    "#보호자 BYH10001\n",
    "df_HH1.BYH10001.value_counts()"
   ]
  },
  {
   "cell_type": "code",
   "execution_count": 38,
   "metadata": {},
   "outputs": [
    {
     "data": {
      "text/plain": [
       " 1.0    1736\n",
       " 3.0     112\n",
       " 2.0      79\n",
       "-5.0      24\n",
       "Name: BYH10002, dtype: int64"
      ]
     },
     "execution_count": 38,
     "metadata": {},
     "output_type": "execute_result"
    }
   ],
   "source": [
    "#parents\n",
    "df_HH1.BYH10002.value_counts()"
   ]
  },
  {
   "cell_type": "code",
   "execution_count": 18,
   "metadata": {},
   "outputs": [
    {
     "data": {
      "text/plain": [
       "-5.0    1644\n",
       " 3.0      16\n",
       " 1.0      13\n",
       " 2.0       8\n",
       " 4.0       2\n",
       " 5.0       1\n",
       "Name: F2H01003, dtype: int64"
      ]
     },
     "execution_count": 18,
     "metadata": {},
     "output_type": "execute_result"
    }
   ],
   "source": [
    "df_HH3.F2H01001.value_counts()\n",
    "df_HH3.F2H01003.value_counts() #보호자 변동된 사람들 "
   ]
  },
  {
   "cell_type": "code",
   "execution_count": 29,
   "metadata": {},
   "outputs": [
    {
     "data": {
      "text/plain": [
       "<matplotlib.axes._subplots.AxesSubplot at 0x1cef7062b88>"
      ]
     },
     "execution_count": 29,
     "metadata": {},
     "output_type": "execute_result"
    },
    {
     "data": {
      "image/png": "[encoded data removed]",
      "text/plain": [
       "<Figure size 432x288 with 1 Axes>"
      ]
     },
     "metadata": {
      "needs_background": "light"
     },
     "output_type": "display_data"
    }
   ],
   "source": [
    "# 사교육비\n",
    "df_HH3[df_HH3[\"F2H04005\"]>0][\"F2H04005\"].hist(bins=30)"
   ]
  },
  {
   "cell_type": "code",
   "execution_count": null,
   "metadata": {},
   "outputs": [],
   "source": []
  }
 ],
 "metadata": {
  "kernelspec": {
   "display_name": "Python 3",
   "language": "python",
   "name": "python3"
  },
  "language_info": {
   "codemirror_mode": {
    "name": "ipython",
    "version": 3
   },
   "file_extension": ".py",
   "mimetype": "text/x-python",
   "name": "python",
   "nbconvert_exporter": "python",
   "pygments_lexer": "ipython3",
   "version": "3.7.6"
  }
 },
 "nbformat": 4,
 "nbformat_minor": 4
}
