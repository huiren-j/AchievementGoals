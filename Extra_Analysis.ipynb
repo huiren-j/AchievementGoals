{
 "cells": [
  {
   "cell_type": "code",
   "execution_count": 1,
   "metadata": {},
   "outputs": [],
   "source": [
    "import pandas as pd\n",
    "import pyreadstat\n",
    "import numpy as np\n",
    "import seaborn as sns\n",
    "import matplotlib.pyplot as plt \n",
    "\n",
    "import econtools as econ\n",
    "import econtools.metrics as mt\n",
    "import math"
   ]
  },
  {
   "cell_type": "code",
   "execution_count": 51,
   "metadata": {},
   "outputs": [],
   "source": [
    "df, meta = pyreadstat.read_sav(\"C:/Users/thxkn/OneDrive/바탕 화면/CV/박사지원서류/WS_HJ/KEEP/df.sav\")"
   ]
  },
  {
   "cell_type": "code",
   "execution_count": 68,
   "metadata": {},
   "outputs": [],
   "source": [
    "##### linear combination ###### - works well\n",
    "var_neg = np.var(df['negativejudg'])\n",
    "var_comp = np.var(df['competition'])\n",
    "var_learn = np.var(df['learning'])\n",
    "var_bp = np.var(df['betterperson'])\n",
    "\n",
    "df['comb_perf'] = (var_neg*df['negativejudg'] + var_comp*df['competition']) / (var_neg + var_comp)\n",
    "df['comb_mastery'] =(var_learn*df['learning'] + var_bp*df['betterperson']) / (var_learn + var_bp)\n",
    "df['comb_perfshare']= df['comb_perf']/ (df['comb_mastery']+df['comb_perf'])\n",
    "df['comb_masteryshare'] = 1-df['comb_perfshare']"
   ]
  },
  {
   "cell_type": "code",
   "execution_count": 69,
   "metadata": {},
   "outputs": [],
   "source": [
    "\n",
    "df_youth, meta = pyreadstat.read_sav(\"C:/Users/thxkn/OneDrive/바탕 화면/CV/박사지원서류/WS_HJ/KEEP/KEEPData_1-12Wave_Ver12/DATA(수능, 직업력, 가중치, 패널조사현황 자료 포함)/1-12차년도 DATA(SPSS)/12차년도(2015) DATA/중학교 3학년 코호트/f11_m_youth.sav\")"
   ]
  },
  {
   "cell_type": "code",
   "execution_count": 70,
   "metadata": {},
   "outputs": [],
   "source": [
    "# employed and earning values\n",
    "df_youth = df_youth[(df_youth[\"F11Y05034\"]>0) & (df_youth[\"F11Y05002\"] == 1)]\n",
    "df_youth = df_youth.rename(columns = {\"F11Y05034\": \"income_st\"})\n",
    "df_youth = df_youth[[\"BYSID\", \"income_st\"]]"
   ]
  },
  {
   "cell_type": "code",
   "execution_count": 71,
   "metadata": {},
   "outputs": [],
   "source": [
    "income_list = df_youth[\"BYSID\"].to_list()\n",
    "df3 = df[df[\"year\"]==2003]\n",
    "df4 = df[df[\"year\"]==2004]"
   ]
  },
  {
   "cell_type": "code",
   "execution_count": 72,
   "metadata": {},
   "outputs": [],
   "source": [
    "df3 = pd.merge(df3,df_youth)\n",
    "df4 = pd.merge(df4,df_youth)"
   ]
  },
  {
   "cell_type": "code",
   "execution_count": 73,
   "metadata": {},
   "outputs": [
    {
     "data": {
      "text/plain": [
       "4       0.503149\n",
       "7       0.405132\n",
       "8       0.365742\n",
       "10      0.447594\n",
       "12      0.535595\n",
       "          ...   \n",
       "3837    0.447594\n",
       "3838    0.365742\n",
       "3839    0.503149\n",
       "3841    0.365742\n",
       "3842    0.334130\n",
       "Name: comb_perfshare, Length: 1650, dtype: float64"
      ]
     },
     "execution_count": 73,
     "metadata": {},
     "output_type": "execute_result"
    }
   ],
   "source": [
    "df.loc[df['BYSID'].isin(income_list) == True, 'comb_perfshare']"
   ]
  },
  {
   "cell_type": "code",
   "execution_count": 74,
   "metadata": {},
   "outputs": [
    {
     "data": {
      "text/plain": [
       "<matplotlib.axes._subplots.AxesSubplot at 0x23a820df888>"
      ]
     },
     "execution_count": 74,
     "metadata": {},
     "output_type": "execute_result"
    },
    {
     "data": {
      "image/png": "[encoded data removed]",
      "text/plain": [
       "<Figure size 432x288 with 1 Axes>"
      ]
     },
     "metadata": {
      "needs_background": "light"
     },
     "output_type": "display_data"
    }
   ],
   "source": [
    "df3['comb_perfshare'].hist(bins = 100)"
   ]
  },
  {
   "cell_type": "code",
   "execution_count": 75,
   "metadata": {},
   "outputs": [
    {
     "name": "stdout",
     "output_type": "stream",
     "text": [
      "=======================================================\n",
      "Dependent variable:\tcomb_perf\n",
      "N:\t\t\t641\n",
      "R-squared:\t\t-2.6726\n",
      "Estimation method:\tOLS\n",
      "VCE method:\t\tStandard (Homosk.)\n",
      "=======================================================\n",
      "                    coeff    se      t   p>t CI_low CI_high\n",
      "comb_perfshare     -2.000   nan    nan   nan    nan     nan\n",
      "comb_masteryshare -14.000   nan    nan   nan    nan     nan\n",
      "income_rank_p       0.189 0.353  0.537 0.592 -0.503   0.882\n",
      "region              0.003 0.015  0.233 0.816 -0.026   0.032\n",
      "typeofschool       -0.002 0.080 -0.022 0.982 -0.160   0.156\n",
      "GENDER             -0.168 0.137 -1.221 0.222 -0.437   0.102\n",
      "year                0.005   nan    nan   nan    nan     nan\n",
      "=======================================================\n",
      "\n",
      "[[ 1.         -0.05740888]\n",
      " [-0.05740888  1.        ]]\n",
      "=======================================================\n",
      "Dependent variable:\tcomb_perf\n",
      "N:\t\t\t641\n",
      "R-squared:\t\t1.0000\n",
      "Estimation method:\tOLS\n",
      "VCE method:\t\tStandard (Homosk.)\n",
      "=======================================================\n",
      "               coeff    se                    t   p>t CI_low CI_high\n",
      "comb_perf      1.000 0.000 1349878017759207.250 0.000  1.000   1.000\n",
      "income_rank_p  0.000 0.000                0.391 0.696 -0.000   0.000\n",
      "region        -0.000 0.000               -1.558 0.120 -0.000   0.000\n",
      "typeofschool   0.000 0.000                0.000 1.000 -0.000   0.000\n",
      "GENDER        -0.000 0.000               -0.332 0.740 -0.000   0.000\n",
      "year           0.000 0.000                0.000 1.000 -0.000   0.000\n",
      "=======================================================\n",
      "\n",
      "[[1.00000000e+00 8.09430775e-04]\n",
      " [8.09430775e-04 1.00000000e+00]]\n"
     ]
    },
    {
     "name": "stderr",
     "output_type": "stream",
     "text": [
      "C:\\Users\\thxkn\\anaconda3\\lib\\site-packages\\econtools\\metrics\\core.py:203: RuntimeWarning: invalid value encountered in sqrt\n",
      "  se = pd.Series(np.sqrt(np.diagonal(vce)), index=vce.columns)\n",
      "C:\\Users\\thxkn\\anaconda3\\lib\\site-packages\\scipy\\stats\\_distn_infrastructure.py:903: RuntimeWarning: invalid value encountered in greater\n",
      "  return (a < x) & (x < b)\n",
      "C:\\Users\\thxkn\\anaconda3\\lib\\site-packages\\scipy\\stats\\_distn_infrastructure.py:903: RuntimeWarning: invalid value encountered in less\n",
      "  return (a < x) & (x < b)\n",
      "C:\\Users\\thxkn\\anaconda3\\lib\\site-packages\\scipy\\stats\\_distn_infrastructure.py:1827: RuntimeWarning: invalid value encountered in greater_equal\n",
      "  cond2 = (x >= np.asarray(_b)) & cond0\n"
     ]
    }
   ],
   "source": [
    "#############################################\n",
    "#완전 박제: 음수가 나왔어ㅠㅠㅠcomb_perfshare\n",
    "############################################\n",
    "y = df3['income_st']\n",
    "x = df3['comb_perfshare']\n",
    "\n",
    "exog = ['comb_perfshare', 'comb_masteryshare','income_rank_p', 'region', 'typeofschool', 'GENDER', 'year']\n",
    "print(mt.reg(df3, 'comb_perf', exog))\n",
    "print(np.corrcoef(x,y))\n",
    "\n",
    "y = df3['income_st']\n",
    "x = df3['comb_perf']\n",
    "\n",
    "exog = ['comb_perf','income_rank_p', 'region', 'typeofschool', 'GENDER', 'year']\n",
    "print(mt.reg(df3, 'comb_perf', exog))\n",
    "print(np.corrcoef(x,y))"
   ]
  },
  {
   "cell_type": "code",
   "execution_count": null,
   "metadata": {},
   "outputs": [],
   "source": [
    "# 자기 대학에 만족? F5Y01048\n",
    "# 대학 선택 가장 크게 영향 준 사람: F5Y01050, F5Y01051\n",
    "# 학교성적 우수학생이 경제적으로 성공?F5Y12009\n",
    "# 우리사회에서 경제적으로 성공하는데 가장 중요한 것F5Y12010\n",
    "# 직장생활 성공에서 가장 중요한 것 F5Y12028 \n",
    "# 우리 사회에서 누구나 성공? F5Y12022"
   ]
  },
  {
   "cell_type": "code",
   "execution_count": 77,
   "metadata": {},
   "outputs": [],
   "source": [
    "\n",
    "df_help, meta = pyreadstat.read_sav(\"C:/Users/thxkn/OneDrive/바탕 화면/CV/박사지원서류/WS_HJ/KEEP/KEEPData_1-12Wave_Ver12/DATA(수능, 직업력, 가중치, 패널조사현황 자료 포함)/1-12차년도 DATA(SPSS)/6차년도(2009) DATA/중학교 3학년생 코호트/f5_m_youth.sav\")"
   ]
  },
  {
   "cell_type": "code",
   "execution_count": 80,
   "metadata": {},
   "outputs": [
    {
     "data": {
      "text/plain": [
       " 2.0    618\n",
       " 4.0    597\n",
       " 3.0    544\n",
       " 1.0    103\n",
       " 5.0     95\n",
       "-3.0      2\n",
       "-2.0      1\n",
       "Name: F5Y12022, dtype: int64"
      ]
     },
     "execution_count": 80,
     "metadata": {},
     "output_type": "execute_result"
    }
   ],
   "source": [
    "df_help['F5Y12022'].value_counts()"
   ]
  },
  {
   "cell_type": "code",
   "execution_count": 103,
   "metadata": {},
   "outputs": [],
   "source": [
    "df_help = df_help[['BYSID','F5Y12022']]"
   ]
  },
  {
   "cell_type": "code",
   "execution_count": 104,
   "metadata": {},
   "outputs": [],
   "source": [
    "df3 = pd.merge(df3, df_help)"
   ]
  },
  {
   "cell_type": "code",
   "execution_count": 92,
   "metadata": {},
   "outputs": [],
   "source": [
    "just_list = df_help.loc[df_help['F5Y12022'] == 2.0, \"BYSID\"]\n",
    "just_list_po = df_help.loc[df_help['F5Y12022'] == 4.0, \"BYSID\"]"
   ]
  },
  {
   "cell_type": "code",
   "execution_count": 90,
   "metadata": {},
   "outputs": [
    {
     "data": {
      "text/plain": [
       "171.86861313868613"
      ]
     },
     "execution_count": 90,
     "metadata": {},
     "output_type": "execute_result"
    }
   ],
   "source": [
    "df3.loc[ df3[\"BYSID\"].isin(just_list) == True, 'income_st' ].mean()"
   ]
  },
  {
   "cell_type": "code",
   "execution_count": 91,
   "metadata": {},
   "outputs": [
    {
     "data": {
      "text/plain": [
       "178.4383775351014"
      ]
     },
     "execution_count": 91,
     "metadata": {},
     "output_type": "execute_result"
    }
   ],
   "source": [
    "df3['income_st'].mean()"
   ]
  },
  {
   "cell_type": "code",
   "execution_count": 93,
   "metadata": {},
   "outputs": [
    {
     "data": {
      "text/plain": [
       "182.4033613445378"
      ]
     },
     "execution_count": 93,
     "metadata": {},
     "output_type": "execute_result"
    }
   ],
   "source": [
    "df3.loc[ df3[\"BYSID\"].isin(just_list_po) == True, 'income_st' ].mean()"
   ]
  },
  {
   "cell_type": "code",
   "execution_count": 96,
   "metadata": {},
   "outputs": [],
   "source": [
    "#SAT\n",
    "\n",
    "df_sat = pd.read_excel(\"C:/Users/thxkn/OneDrive/바탕 화면/CV/박사지원서류/WS_HJ/KEEP/KEEPData_1-12Wave_Ver12/DATA(수능, 직업력, 가중치, 패널조사현황 자료 포함)/수능(2005-2009학년도) DATA(Layout 포함)/수능 DATA(2008-2009학년도)_중학교 3학년생 코호트.xlsx\")\n",
    "\n",
    "df_sat = df_sat[[\"AT08_32\",\"AT08_33\",\"AT08_34\",\"AT09_32\",\"AT09_33\",\"AT09_34\",\"BYSID\"]]\n",
    "df_sat[\"total_score_1\"] = df_sat[\"AT08_32\"] + df_sat[\"AT08_33\"] + df_sat[\"AT08_34\"]\n",
    "df_sat[\"total_score_2\"] = df_sat[\"AT09_32\"] + df_sat[\"AT09_33\"] + df_sat[\"AT09_34\"]"
   ]
  },
  {
   "cell_type": "code",
   "execution_count": 97,
   "metadata": {},
   "outputs": [
    {
     "data": {
      "text/plain": [
       "14.436666666666667"
      ]
     },
     "execution_count": 97,
     "metadata": {},
     "output_type": "execute_result"
    }
   ],
   "source": [
    "df_sat.loc[df_sat[\"BYSID\"].isin(just_list_po) == True, 'total_score_1'].mean()"
   ]
  },
  {
   "cell_type": "code",
   "execution_count": 98,
   "metadata": {},
   "outputs": [
    {
     "data": {
      "text/plain": [
       "13.85919540229885"
      ]
     },
     "execution_count": 98,
     "metadata": {},
     "output_type": "execute_result"
    }
   ],
   "source": [
    "df_sat.loc[df_sat[\"BYSID\"].isin(just_list) == True, 'total_score_1'].mean()"
   ]
  },
  {
   "cell_type": "code",
   "execution_count": 99,
   "metadata": {},
   "outputs": [
    {
     "data": {
      "text/plain": [
       "15.020515826494725"
      ]
     },
     "execution_count": 99,
     "metadata": {},
     "output_type": "execute_result"
    }
   ],
   "source": [
    "df_sat[\"total_score_1\"].mean()"
   ]
  },
  {
   "cell_type": "code",
   "execution_count": 100,
   "metadata": {},
   "outputs": [
    {
     "data": {
      "text/plain": [
       "0.4527201213038497"
      ]
     },
     "execution_count": 100,
     "metadata": {},
     "output_type": "execute_result"
    }
   ],
   "source": [
    "df3.loc[df3[\"BYSID\"].isin(just_list_po) == True, 'comb_perfshare'].mean()"
   ]
  },
  {
   "cell_type": "code",
   "execution_count": 101,
   "metadata": {},
   "outputs": [
    {
     "data": {
      "text/plain": [
       "0.4315825674873673"
      ]
     },
     "execution_count": 101,
     "metadata": {},
     "output_type": "execute_result"
    }
   ],
   "source": [
    "df3.loc[df3[\"BYSID\"].isin(just_list) == True, 'comb_perfshare'].mean()"
   ]
  },
  {
   "cell_type": "code",
   "execution_count": 107,
   "metadata": {},
   "outputs": [
    {
     "data": {
      "text/plain": [
       "array([[ 1.        , -0.05701253],\n",
       "       [-0.05701253,  1.        ]])"
      ]
     },
     "execution_count": 107,
     "metadata": {},
     "output_type": "execute_result"
    }
   ],
   "source": [
    "np.corrcoef(df3['comb_masteryshare'], df3['F5Y12022']) #mastery 일 수록 사회에 대한 belief 적어졌다"
   ]
  },
  {
   "cell_type": "code",
   "execution_count": 119,
   "metadata": {},
   "outputs": [
    {
     "data": {
      "text/plain": [
       "[<matplotlib.lines.Line2D at 0x23a819bf308>]"
      ]
     },
     "execution_count": 119,
     "metadata": {},
     "output_type": "execute_result"
    },
    {
     "data": {
      "image/png": "[encoded data removed]",
      "text/plain": [
       "<Figure size 432x288 with 1 Axes>"
      ]
     },
     "metadata": {
      "needs_background": "light"
     },
     "output_type": "display_data"
    }
   ],
   "source": [
    "p = 1\n",
    "m = 5\n",
    "x0 = 1\n",
    "v = range(5,100)\n",
    "y = [ 1 - ((p/m) * (x- x0)/(2*x - x0)) for x in v]\n",
    "plt.plot(v,y, 'ro')"
   ]
  },
  {
   "cell_type": "code",
   "execution_count": null,
   "metadata": {},
   "outputs": [],
   "source": []
  }
 ],
 "metadata": {
  "kernelspec": {
   "display_name": "Python 3",
   "language": "python",
   "name": "python3"
  },
  "language_info": {
   "codemirror_mode": {
    "name": "ipython",
    "version": 3
   },
   "file_extension": ".py",
   "mimetype": "text/x-python",
   "name": "python",
   "nbconvert_exporter": "python",
   "pygments_lexer": "ipython3",
   "version": "3.7.6"
  }
 },
 "nbformat": 4,
 "nbformat_minor": 4
}
