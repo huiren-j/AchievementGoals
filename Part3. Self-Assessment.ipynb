{
 "cells": [
  {
   "cell_type": "code",
   "execution_count": 1,
   "metadata": {},
   "outputs": [],
   "source": [
    "import pandas as pd\n",
    "import pyreadstat\n",
    "import numpy as np\n",
    "import seaborn as sns\n",
    "import matplotlib.pyplot as plt\n",
    "\n",
    "import econtools as econ\n",
    "import econtools.metrics as mt\n",
    "import math"
   ]
  },
  {
   "cell_type": "markdown",
   "metadata": {},
   "source": [
    "<h3>The relathionship between inaccurate self-assessment and performance goals</h3>"
   ]
  },
  {
   "cell_type": "code",
   "execution_count": 2,
   "metadata": {},
   "outputs": [],
   "source": [
    "df, meta = pyreadstat.read_sav(\"df.sav\")"
   ]
  },
  {
   "cell_type": "code",
   "execution_count": 3,
   "metadata": {},
   "outputs": [
    {
     "data": {
      "text/plain": [
       "2747"
      ]
     },
     "execution_count": 3,
     "metadata": {},
     "output_type": "execute_result"
    }
   ],
   "source": [
    "len(df)"
   ]
  },
  {
   "cell_type": "code",
   "execution_count": 4,
   "metadata": {},
   "outputs": [],
   "source": [
    "\n",
    "\n",
    "df_sat = pd.read_excel(\"C:/Users/thxkn/OneDrive/바탕 화면/CV/박사지원서류/WS_HJ/KEEP/KEEPData_1-12Wave_Ver12/DATA(수능, 직업력, 가중치, 패널조사현황 자료 포함)/수능(2005-2009학년도) DATA(Layout 포함)/수능 DATA(2008-2009학년도)_중학교 3학년생 코호트.xlsx\")"
   ]
  },
  {
   "cell_type": "code",
   "execution_count": 5,
   "metadata": {
    "scrolled": true
   },
   "outputs": [],
   "source": [
    "# df_sat missing values = all nan/ seoncd score에는 nan이 많음 왜? 재수 안 한 사람들이 많으니깐"
   ]
  },
  {
   "cell_type": "code",
   "execution_count": 6,
   "metadata": {},
   "outputs": [],
   "source": [
    "df_sat = df_sat[[\"AT08_32\",\"AT08_33\",\"AT08_34\",\"AT09_32\",\"AT09_33\",\"AT09_34\",\"BYSID\"]]\n",
    "df_sat[\"total_score_1\"] = df_sat[\"AT08_32\"] + df_sat[\"AT08_33\"] + df_sat[\"AT08_34\"]\n",
    "df_sat[\"total_score_2\"] = df_sat[\"AT09_32\"] + df_sat[\"AT09_33\"] + df_sat[\"AT09_34\"]"
   ]
  },
  {
   "cell_type": "code",
   "execution_count": 7,
   "metadata": {},
   "outputs": [],
   "source": [
    "# self assessment = ['F3S01129']\n",
    "df_sat_temp = df_sat[['BYSID','total_score_1','total_score_2']]\n",
    "df_temp = pd.merge(df, df_sat_temp)"
   ]
  },
  {
   "cell_type": "code",
   "execution_count": 8,
   "metadata": {
    "scrolled": false
   },
   "outputs": [
    {
     "data": {
      "text/html": [
       "<div>\n",
       "<style scoped>\n",
       "    .dataframe tbody tr th:only-of-type {\n",
       "        vertical-align: middle;\n",
       "    }\n",
       "\n",
       "    .dataframe tbody tr th {\n",
       "        vertical-align: top;\n",
       "    }\n",
       "\n",
       "    .dataframe thead th {\n",
       "        text-align: right;\n",
       "    }\n",
       "</style>\n",
       "<table border=\"1\" class=\"dataframe\">\n",
       "  <thead>\n",
       "    <tr style=\"text-align: right;\">\n",
       "      <th></th>\n",
       "      <th>BYSID</th>\n",
       "      <th>BYHID</th>\n",
       "      <th>GENDER</th>\n",
       "      <th>BYSCLASS</th>\n",
       "      <th>region</th>\n",
       "      <th>schooltype</th>\n",
       "      <th>F2S01004</th>\n",
       "      <th>F2S01005</th>\n",
       "      <th>F2S01006</th>\n",
       "      <th>F2S01007</th>\n",
       "      <th>...</th>\n",
       "      <th>F3H12025</th>\n",
       "      <th>F3H12026</th>\n",
       "      <th>F3H12027</th>\n",
       "      <th>F3H13001</th>\n",
       "      <th>F3H13002</th>\n",
       "      <th>F3H13003</th>\n",
       "      <th>F3H13004</th>\n",
       "      <th>income_rank_p</th>\n",
       "      <th>total_score_1</th>\n",
       "      <th>total_score_2</th>\n",
       "    </tr>\n",
       "  </thead>\n",
       "  <tbody>\n",
       "    <tr>\n",
       "      <th>0</th>\n",
       "      <td>1003.0</td>\n",
       "      <td>10031.0</td>\n",
       "      <td>1.0</td>\n",
       "      <td>1.0</td>\n",
       "      <td>8.0</td>\n",
       "      <td>7.0</td>\n",
       "      <td>1.0</td>\n",
       "      <td>0.0</td>\n",
       "      <td>1.0</td>\n",
       "      <td>0.0</td>\n",
       "      <td>...</td>\n",
       "      <td>NaN</td>\n",
       "      <td>NaN</td>\n",
       "      <td>NaN</td>\n",
       "      <td>NaN</td>\n",
       "      <td>NaN</td>\n",
       "      <td>NaN</td>\n",
       "      <td>NaN</td>\n",
       "      <td>0.547619</td>\n",
       "      <td>17.0</td>\n",
       "      <td>NaN</td>\n",
       "    </tr>\n",
       "    <tr>\n",
       "      <th>1</th>\n",
       "      <td>1003.0</td>\n",
       "      <td>10031.0</td>\n",
       "      <td>1.0</td>\n",
       "      <td>1.0</td>\n",
       "      <td>8.0</td>\n",
       "      <td>7.0</td>\n",
       "      <td>NaN</td>\n",
       "      <td>NaN</td>\n",
       "      <td>NaN</td>\n",
       "      <td>NaN</td>\n",
       "      <td>...</td>\n",
       "      <td>-5.0</td>\n",
       "      <td>1.0</td>\n",
       "      <td>2.0</td>\n",
       "      <td>2.0</td>\n",
       "      <td>1.0</td>\n",
       "      <td>1.0</td>\n",
       "      <td>2.0</td>\n",
       "      <td>0.369748</td>\n",
       "      <td>17.0</td>\n",
       "      <td>NaN</td>\n",
       "    </tr>\n",
       "    <tr>\n",
       "      <th>2</th>\n",
       "      <td>1007.0</td>\n",
       "      <td>10071.0</td>\n",
       "      <td>1.0</td>\n",
       "      <td>1.0</td>\n",
       "      <td>2.0</td>\n",
       "      <td>7.0</td>\n",
       "      <td>2.0</td>\n",
       "      <td>0.0</td>\n",
       "      <td>1.0</td>\n",
       "      <td>1.0</td>\n",
       "      <td>...</td>\n",
       "      <td>NaN</td>\n",
       "      <td>NaN</td>\n",
       "      <td>NaN</td>\n",
       "      <td>NaN</td>\n",
       "      <td>NaN</td>\n",
       "      <td>NaN</td>\n",
       "      <td>NaN</td>\n",
       "      <td>0.511905</td>\n",
       "      <td>19.0</td>\n",
       "      <td>NaN</td>\n",
       "    </tr>\n",
       "    <tr>\n",
       "      <th>3</th>\n",
       "      <td>1007.0</td>\n",
       "      <td>10071.0</td>\n",
       "      <td>1.0</td>\n",
       "      <td>1.0</td>\n",
       "      <td>2.0</td>\n",
       "      <td>7.0</td>\n",
       "      <td>NaN</td>\n",
       "      <td>NaN</td>\n",
       "      <td>NaN</td>\n",
       "      <td>NaN</td>\n",
       "      <td>...</td>\n",
       "      <td>-5.0</td>\n",
       "      <td>1.0</td>\n",
       "      <td>2.0</td>\n",
       "      <td>3.0</td>\n",
       "      <td>1.0</td>\n",
       "      <td>2.0</td>\n",
       "      <td>3.0</td>\n",
       "      <td>0.613445</td>\n",
       "      <td>19.0</td>\n",
       "      <td>NaN</td>\n",
       "    </tr>\n",
       "    <tr>\n",
       "      <th>4</th>\n",
       "      <td>1008.0</td>\n",
       "      <td>10081.0</td>\n",
       "      <td>1.0</td>\n",
       "      <td>1.0</td>\n",
       "      <td>8.0</td>\n",
       "      <td>7.0</td>\n",
       "      <td>2.0</td>\n",
       "      <td>0.0</td>\n",
       "      <td>1.0</td>\n",
       "      <td>0.0</td>\n",
       "      <td>...</td>\n",
       "      <td>NaN</td>\n",
       "      <td>NaN</td>\n",
       "      <td>NaN</td>\n",
       "      <td>NaN</td>\n",
       "      <td>NaN</td>\n",
       "      <td>NaN</td>\n",
       "      <td>NaN</td>\n",
       "      <td>0.452381</td>\n",
       "      <td>15.0</td>\n",
       "      <td>15.0</td>\n",
       "    </tr>\n",
       "    <tr>\n",
       "      <th>...</th>\n",
       "      <td>...</td>\n",
       "      <td>...</td>\n",
       "      <td>...</td>\n",
       "      <td>...</td>\n",
       "      <td>...</td>\n",
       "      <td>...</td>\n",
       "      <td>...</td>\n",
       "      <td>...</td>\n",
       "      <td>...</td>\n",
       "      <td>...</td>\n",
       "      <td>...</td>\n",
       "      <td>...</td>\n",
       "      <td>...</td>\n",
       "      <td>...</td>\n",
       "      <td>...</td>\n",
       "      <td>...</td>\n",
       "      <td>...</td>\n",
       "      <td>...</td>\n",
       "      <td>...</td>\n",
       "      <td>...</td>\n",
       "      <td>...</td>\n",
       "    </tr>\n",
       "    <tr>\n",
       "      <th>1468</th>\n",
       "      <td>7921.0</td>\n",
       "      <td>79211.0</td>\n",
       "      <td>1.0</td>\n",
       "      <td>1.0</td>\n",
       "      <td>6.0</td>\n",
       "      <td>0.0</td>\n",
       "      <td>NaN</td>\n",
       "      <td>NaN</td>\n",
       "      <td>NaN</td>\n",
       "      <td>NaN</td>\n",
       "      <td>...</td>\n",
       "      <td>-5.0</td>\n",
       "      <td>1.0</td>\n",
       "      <td>2.0</td>\n",
       "      <td>1.0</td>\n",
       "      <td>1.0</td>\n",
       "      <td>0.0</td>\n",
       "      <td>1.0</td>\n",
       "      <td>0.529412</td>\n",
       "      <td>27.0</td>\n",
       "      <td>NaN</td>\n",
       "    </tr>\n",
       "    <tr>\n",
       "      <th>1469</th>\n",
       "      <td>7924.0</td>\n",
       "      <td>79241.0</td>\n",
       "      <td>1.0</td>\n",
       "      <td>1.0</td>\n",
       "      <td>10.0</td>\n",
       "      <td>0.0</td>\n",
       "      <td>NaN</td>\n",
       "      <td>NaN</td>\n",
       "      <td>NaN</td>\n",
       "      <td>NaN</td>\n",
       "      <td>...</td>\n",
       "      <td>-5.0</td>\n",
       "      <td>-5.0</td>\n",
       "      <td>-5.0</td>\n",
       "      <td>2.0</td>\n",
       "      <td>1.0</td>\n",
       "      <td>1.0</td>\n",
       "      <td>2.0</td>\n",
       "      <td>0.268908</td>\n",
       "      <td>14.0</td>\n",
       "      <td>NaN</td>\n",
       "    </tr>\n",
       "    <tr>\n",
       "      <th>1470</th>\n",
       "      <td>7926.0</td>\n",
       "      <td>79261.0</td>\n",
       "      <td>0.0</td>\n",
       "      <td>1.0</td>\n",
       "      <td>2.0</td>\n",
       "      <td>0.0</td>\n",
       "      <td>NaN</td>\n",
       "      <td>NaN</td>\n",
       "      <td>NaN</td>\n",
       "      <td>NaN</td>\n",
       "      <td>...</td>\n",
       "      <td>-5.0</td>\n",
       "      <td>1.0</td>\n",
       "      <td>2.0</td>\n",
       "      <td>2.0</td>\n",
       "      <td>1.0</td>\n",
       "      <td>1.0</td>\n",
       "      <td>2.0</td>\n",
       "      <td>0.445378</td>\n",
       "      <td>NaN</td>\n",
       "      <td>NaN</td>\n",
       "    </tr>\n",
       "    <tr>\n",
       "      <th>1471</th>\n",
       "      <td>7927.0</td>\n",
       "      <td>79271.0</td>\n",
       "      <td>1.0</td>\n",
       "      <td>1.0</td>\n",
       "      <td>2.0</td>\n",
       "      <td>0.0</td>\n",
       "      <td>NaN</td>\n",
       "      <td>NaN</td>\n",
       "      <td>NaN</td>\n",
       "      <td>NaN</td>\n",
       "      <td>...</td>\n",
       "      <td>-5.0</td>\n",
       "      <td>1.0</td>\n",
       "      <td>2.0</td>\n",
       "      <td>3.0</td>\n",
       "      <td>1.0</td>\n",
       "      <td>2.0</td>\n",
       "      <td>3.0</td>\n",
       "      <td>0.478992</td>\n",
       "      <td>23.0</td>\n",
       "      <td>NaN</td>\n",
       "    </tr>\n",
       "    <tr>\n",
       "      <th>1472</th>\n",
       "      <td>7950.0</td>\n",
       "      <td>79501.0</td>\n",
       "      <td>0.0</td>\n",
       "      <td>1.0</td>\n",
       "      <td>4.0</td>\n",
       "      <td>0.0</td>\n",
       "      <td>NaN</td>\n",
       "      <td>NaN</td>\n",
       "      <td>NaN</td>\n",
       "      <td>NaN</td>\n",
       "      <td>...</td>\n",
       "      <td>-5.0</td>\n",
       "      <td>1.0</td>\n",
       "      <td>2.0</td>\n",
       "      <td>2.0</td>\n",
       "      <td>0.0</td>\n",
       "      <td>2.0</td>\n",
       "      <td>2.0</td>\n",
       "      <td>0.495798</td>\n",
       "      <td>NaN</td>\n",
       "      <td>NaN</td>\n",
       "    </tr>\n",
       "  </tbody>\n",
       "</table>\n",
       "<p>1473 rows × 1064 columns</p>\n",
       "</div>"
      ],
      "text/plain": [
       "       BYSID    BYHID  GENDER  BYSCLASS  region  schooltype  F2S01004  \\\n",
       "0     1003.0  10031.0     1.0       1.0     8.0         7.0       1.0   \n",
       "1     1003.0  10031.0     1.0       1.0     8.0         7.0       NaN   \n",
       "2     1007.0  10071.0     1.0       1.0     2.0         7.0       2.0   \n",
       "3     1007.0  10071.0     1.0       1.0     2.0         7.0       NaN   \n",
       "4     1008.0  10081.0     1.0       1.0     8.0         7.0       2.0   \n",
       "...      ...      ...     ...       ...     ...         ...       ...   \n",
       "1468  7921.0  79211.0     1.0       1.0     6.0         0.0       NaN   \n",
       "1469  7924.0  79241.0     1.0       1.0    10.0         0.0       NaN   \n",
       "1470  7926.0  79261.0     0.0       1.0     2.0         0.0       NaN   \n",
       "1471  7927.0  79271.0     1.0       1.0     2.0         0.0       NaN   \n",
       "1472  7950.0  79501.0     0.0       1.0     4.0         0.0       NaN   \n",
       "\n",
       "      F2S01005  F2S01006  F2S01007  ...  F3H12025  F3H12026  F3H12027  \\\n",
       "0          0.0       1.0       0.0  ...       NaN       NaN       NaN   \n",
       "1          NaN       NaN       NaN  ...      -5.0       1.0       2.0   \n",
       "2          0.0       1.0       1.0  ...       NaN       NaN       NaN   \n",
       "3          NaN       NaN       NaN  ...      -5.0       1.0       2.0   \n",
       "4          0.0       1.0       0.0  ...       NaN       NaN       NaN   \n",
       "...        ...       ...       ...  ...       ...       ...       ...   \n",
       "1468       NaN       NaN       NaN  ...      -5.0       1.0       2.0   \n",
       "1469       NaN       NaN       NaN  ...      -5.0      -5.0      -5.0   \n",
       "1470       NaN       NaN       NaN  ...      -5.0       1.0       2.0   \n",
       "1471       NaN       NaN       NaN  ...      -5.0       1.0       2.0   \n",
       "1472       NaN       NaN       NaN  ...      -5.0       1.0       2.0   \n",
       "\n",
       "      F3H13001  F3H13002  F3H13003  F3H13004  income_rank_p  total_score_1  \\\n",
       "0          NaN       NaN       NaN       NaN       0.547619           17.0   \n",
       "1          2.0       1.0       1.0       2.0       0.369748           17.0   \n",
       "2          NaN       NaN       NaN       NaN       0.511905           19.0   \n",
       "3          3.0       1.0       2.0       3.0       0.613445           19.0   \n",
       "4          NaN       NaN       NaN       NaN       0.452381           15.0   \n",
       "...        ...       ...       ...       ...            ...            ...   \n",
       "1468       1.0       1.0       0.0       1.0       0.529412           27.0   \n",
       "1469       2.0       1.0       1.0       2.0       0.268908           14.0   \n",
       "1470       2.0       1.0       1.0       2.0       0.445378            NaN   \n",
       "1471       3.0       1.0       2.0       3.0       0.478992           23.0   \n",
       "1472       2.0       0.0       2.0       2.0       0.495798            NaN   \n",
       "\n",
       "      total_score_2  \n",
       "0               NaN  \n",
       "1               NaN  \n",
       "2               NaN  \n",
       "3               NaN  \n",
       "4              15.0  \n",
       "...             ...  \n",
       "1468            NaN  \n",
       "1469            NaN  \n",
       "1470            NaN  \n",
       "1471            NaN  \n",
       "1472            NaN  \n",
       "\n",
       "[1473 rows x 1064 columns]"
      ]
     },
     "execution_count": 8,
     "metadata": {},
     "output_type": "execute_result"
    }
   ],
   "source": [
    "df_temp"
   ]
  },
  {
   "cell_type": "code",
   "execution_count": 9,
   "metadata": {},
   "outputs": [
    {
     "data": {
      "text/plain": [
       "1231"
      ]
     },
     "execution_count": 9,
     "metadata": {},
     "output_type": "execute_result"
    }
   ],
   "source": [
    "# beliefs missing value\n",
    "df_temp = df_temp[df_temp['F3S01129']>0]\n",
    "df_temp = df_temp[df_temp['total_score_1']>0]\n",
    "len(df_temp) #1231"
   ]
  },
  {
   "cell_type": "code",
   "execution_count": 10,
   "metadata": {},
   "outputs": [],
   "source": [
    "# gap between self-assessment and actual attainments\n",
    "# total score average \n",
    "df_temp['total_score_1'] = df_temp['total_score_1']/3\n",
    "#df_temp['total_score_2'] = df_temp['total_score_2']/3\n",
    "df_temp['belief_gap'] = df_temp['F3S01129'] - df_temp['total_score_1']"
   ]
  },
  {
   "cell_type": "code",
   "execution_count": 11,
   "metadata": {},
   "outputs": [],
   "source": [
    "# perfshare\n",
    "df_temp['perf'] = df_temp['favorablejudg']+df_temp['negativejudg']\n",
    "df_temp['perfshare'] = df_temp['perf'] / (df_temp['perf'] + df_temp['learning'])\n",
    "\n",
    "#exog = ['income_rank_p', 'region', 'schooltype', 'GENDER', 'year']\n",
    "#print(mt.reg(df, 'perfshare', exog))"
   ]
  },
  {
   "cell_type": "code",
   "execution_count": 12,
   "metadata": {},
   "outputs": [
    {
     "data": {
      "text/plain": [
       "59"
      ]
     },
     "execution_count": 12,
     "metadata": {},
     "output_type": "execute_result"
    }
   ],
   "source": [
    "len(df_temp[df_temp['belief_gap']<0]) # underestimate 913 out of 1346\n",
    "len(df_temp[df_temp['belief_gap']>0]) # overestimate 259 out of 1346\n",
    "len(df_temp[df_temp['belief_gap']==0]) # accurate 59 out of 1346"
   ]
  },
  {
   "cell_type": "code",
   "execution_count": 13,
   "metadata": {},
   "outputs": [],
   "source": [
    "df_temp['belief_gap_abs'] = abs(df_temp['belief_gap'])"
   ]
  },
  {
   "cell_type": "code",
   "execution_count": 64,
   "metadata": {},
   "outputs": [
    {
     "data": {
      "text/plain": [
       "array([[1.        , 0.00464427],\n",
       "       [0.00464427, 1.        ]])"
      ]
     },
     "execution_count": 64,
     "metadata": {},
     "output_type": "execute_result"
    }
   ],
   "source": [
    "np.corrcoef(df_temp['belief_gap_abs'], df_temp['perfshare'])"
   ]
  },
  {
   "cell_type": "code",
   "execution_count": 17,
   "metadata": {},
   "outputs": [],
   "source": [
    "stat_b_gap = df_temp['belief_gap_abs'].describe().round(2)\n",
    "stat_b_gap.to_latex('stat_b_gap.tex')"
   ]
  },
  {
   "cell_type": "code",
   "execution_count": 22,
   "metadata": {},
   "outputs": [
    {
     "data": {
      "text/plain": [
       "1424    1.0\n",
       "Name: F3S01129, dtype: float64"
      ]
     },
     "execution_count": 22,
     "metadata": {},
     "output_type": "execute_result"
    }
   ],
   "source": [
    "df_temp.loc[df_temp['belief_gap_abs'] == 8.0, 'F3S01129']"
   ]
  },
  {
   "cell_type": "code",
   "execution_count": 67,
   "metadata": {},
   "outputs": [
    {
     "name": "stdout",
     "output_type": "stream",
     "text": [
      "=======================================================\n",
      "Dependent variable:\tperfshare\n",
      "N:\t\t\t1231\n",
      "R-squared:\t\t0.0230\n",
      "Estimation method:\tOLS\n",
      "VCE method:\t\tStandard (Homosk.)\n",
      "=======================================================\n",
      "                coeff    se      t   p>t CI_low CI_high\n",
      "income_rank_p  -0.015 0.015 -0.978 0.328 -0.044   0.015\n",
      "region         -0.000 0.001 -0.100 0.920 -0.001   0.001\n",
      "schooltype      0.001 0.001  0.523 0.601 -0.001   0.003\n",
      "GENDER         -0.006 0.006 -0.956 0.339 -0.017   0.006\n",
      "year            0.000 0.000 43.770 0.000  0.000   0.000\n",
      "belief_gap_abs -0.004 0.002 -1.517 0.130 -0.008   0.001\n",
      "total_score_1   0.008 0.002  4.556 0.000  0.004   0.011\n",
      "=======================================================\n",
      "\n"
     ]
    }
   ],
   "source": [
    "exog = ['income_rank_p', 'region', 'schooltype', 'GENDER', 'year','belief_gap_abs','total_score_1']\n",
    "print(mt.reg(df_temp, 'perfshare', exog))"
   ]
  },
  {
   "cell_type": "code",
   "execution_count": 23,
   "metadata": {},
   "outputs": [
    {
     "name": "stderr",
     "output_type": "stream",
     "text": [
      "C:\\Users\\thxkn\\anaconda3\\lib\\site-packages\\numpy\\lib\\function_base.py:393: RuntimeWarning: Mean of empty slice.\n",
      "  avg = a.mean(axis)\n",
      "C:\\Users\\thxkn\\anaconda3\\lib\\site-packages\\numpy\\core\\_methods.py:154: RuntimeWarning: invalid value encountered in true_divide\n",
      "  ret, rcount, out=ret, casting='unsafe', subok=False)\n",
      "C:\\Users\\thxkn\\anaconda3\\lib\\site-packages\\numpy\\lib\\function_base.py:2526: RuntimeWarning: Degrees of freedom <= 0 for slice\n",
      "  c = cov(x, y, rowvar)\n",
      "C:\\Users\\thxkn\\anaconda3\\lib\\site-packages\\numpy\\lib\\function_base.py:2455: RuntimeWarning: divide by zero encountered in true_divide\n",
      "  c *= np.true_divide(1, fact)\n",
      "C:\\Users\\thxkn\\anaconda3\\lib\\site-packages\\numpy\\lib\\function_base.py:2455: RuntimeWarning: invalid value encountered in multiply\n",
      "  c *= np.true_divide(1, fact)\n"
     ]
    },
    {
     "data": {
      "text/plain": [
       "array([[nan, nan],\n",
       "       [nan, nan]])"
      ]
     },
     "execution_count": 23,
     "metadata": {},
     "output_type": "execute_result"
    }
   ],
   "source": [
    "# 3rd round self-assessment ['F2S01109']\n",
    "df_temp = df_temp[df_temp['F2S01109']>0]\n",
    "df_temp['belief_gap2'] = df_temp['F2S01109'] - df_temp['total_score_1']\n",
    "df_temp['belief_gap_abs2'] = abs(df_temp['belief_gap2'])\n",
    "df_temp['F2S01109'].value_counts()\n",
    "np.corrcoef(df_temp['belief_gap_abs2'], df_temp['perfshare'])"
   ]
  },
  {
   "cell_type": "code",
   "execution_count": 78,
   "metadata": {
    "scrolled": true
   },
   "outputs": [
    {
     "data": {
      "text/html": [
       "<div>\n",
       "<style scoped>\n",
       "    .dataframe tbody tr th:only-of-type {\n",
       "        vertical-align: middle;\n",
       "    }\n",
       "\n",
       "    .dataframe tbody tr th {\n",
       "        vertical-align: top;\n",
       "    }\n",
       "\n",
       "    .dataframe thead th {\n",
       "        text-align: right;\n",
       "    }\n",
       "</style>\n",
       "<table border=\"1\" class=\"dataframe\">\n",
       "  <thead>\n",
       "    <tr style=\"text-align: right;\">\n",
       "      <th></th>\n",
       "      <th>BYSID</th>\n",
       "      <th>BYHID</th>\n",
       "      <th>GENDER</th>\n",
       "      <th>BYSCLASS</th>\n",
       "      <th>region</th>\n",
       "      <th>schooltype</th>\n",
       "      <th>F2S01004</th>\n",
       "      <th>F2S01005</th>\n",
       "      <th>F2S01006</th>\n",
       "      <th>F2S01007</th>\n",
       "      <th>...</th>\n",
       "      <th>F3H12026</th>\n",
       "      <th>F3H12027</th>\n",
       "      <th>F3H13001</th>\n",
       "      <th>F3H13002</th>\n",
       "      <th>F3H13003</th>\n",
       "      <th>F3H13004</th>\n",
       "      <th>income_rank_p</th>\n",
       "      <th>perf</th>\n",
       "      <th>pefshare</th>\n",
       "      <th>perfshare</th>\n",
       "    </tr>\n",
       "  </thead>\n",
       "  <tbody>\n",
       "    <tr>\n",
       "      <th>0</th>\n",
       "      <td>1003.0</td>\n",
       "      <td>10031.0</td>\n",
       "      <td>1.0</td>\n",
       "      <td>1.0</td>\n",
       "      <td>8.0</td>\n",
       "      <td>7.0</td>\n",
       "      <td>1.0</td>\n",
       "      <td>0.0</td>\n",
       "      <td>1.0</td>\n",
       "      <td>0.0</td>\n",
       "      <td>...</td>\n",
       "      <td>NaN</td>\n",
       "      <td>NaN</td>\n",
       "      <td>NaN</td>\n",
       "      <td>NaN</td>\n",
       "      <td>NaN</td>\n",
       "      <td>NaN</td>\n",
       "      <td>0.547619</td>\n",
       "      <td>6.0</td>\n",
       "      <td>0.666667</td>\n",
       "      <td>0.666667</td>\n",
       "    </tr>\n",
       "    <tr>\n",
       "      <th>1</th>\n",
       "      <td>1005.0</td>\n",
       "      <td>10051.0</td>\n",
       "      <td>1.0</td>\n",
       "      <td>1.0</td>\n",
       "      <td>15.0</td>\n",
       "      <td>5.0</td>\n",
       "      <td>1.0</td>\n",
       "      <td>0.0</td>\n",
       "      <td>1.0</td>\n",
       "      <td>0.0</td>\n",
       "      <td>...</td>\n",
       "      <td>NaN</td>\n",
       "      <td>NaN</td>\n",
       "      <td>NaN</td>\n",
       "      <td>NaN</td>\n",
       "      <td>NaN</td>\n",
       "      <td>NaN</td>\n",
       "      <td>0.380952</td>\n",
       "      <td>4.0</td>\n",
       "      <td>0.571429</td>\n",
       "      <td>0.571429</td>\n",
       "    </tr>\n",
       "    <tr>\n",
       "      <th>2</th>\n",
       "      <td>1007.0</td>\n",
       "      <td>10071.0</td>\n",
       "      <td>1.0</td>\n",
       "      <td>1.0</td>\n",
       "      <td>2.0</td>\n",
       "      <td>7.0</td>\n",
       "      <td>2.0</td>\n",
       "      <td>0.0</td>\n",
       "      <td>1.0</td>\n",
       "      <td>1.0</td>\n",
       "      <td>...</td>\n",
       "      <td>NaN</td>\n",
       "      <td>NaN</td>\n",
       "      <td>NaN</td>\n",
       "      <td>NaN</td>\n",
       "      <td>NaN</td>\n",
       "      <td>NaN</td>\n",
       "      <td>0.511905</td>\n",
       "      <td>6.0</td>\n",
       "      <td>0.666667</td>\n",
       "      <td>0.666667</td>\n",
       "    </tr>\n",
       "    <tr>\n",
       "      <th>3</th>\n",
       "      <td>1008.0</td>\n",
       "      <td>10081.0</td>\n",
       "      <td>1.0</td>\n",
       "      <td>1.0</td>\n",
       "      <td>8.0</td>\n",
       "      <td>7.0</td>\n",
       "      <td>2.0</td>\n",
       "      <td>0.0</td>\n",
       "      <td>1.0</td>\n",
       "      <td>0.0</td>\n",
       "      <td>...</td>\n",
       "      <td>NaN</td>\n",
       "      <td>NaN</td>\n",
       "      <td>NaN</td>\n",
       "      <td>NaN</td>\n",
       "      <td>NaN</td>\n",
       "      <td>NaN</td>\n",
       "      <td>0.452381</td>\n",
       "      <td>7.0</td>\n",
       "      <td>0.777778</td>\n",
       "      <td>0.777778</td>\n",
       "    </tr>\n",
       "    <tr>\n",
       "      <th>4</th>\n",
       "      <td>1010.0</td>\n",
       "      <td>10101.0</td>\n",
       "      <td>1.0</td>\n",
       "      <td>1.0</td>\n",
       "      <td>8.0</td>\n",
       "      <td>7.0</td>\n",
       "      <td>1.0</td>\n",
       "      <td>0.0</td>\n",
       "      <td>1.0</td>\n",
       "      <td>0.0</td>\n",
       "      <td>...</td>\n",
       "      <td>NaN</td>\n",
       "      <td>NaN</td>\n",
       "      <td>NaN</td>\n",
       "      <td>NaN</td>\n",
       "      <td>NaN</td>\n",
       "      <td>NaN</td>\n",
       "      <td>0.583333</td>\n",
       "      <td>5.0</td>\n",
       "      <td>0.625000</td>\n",
       "      <td>0.625000</td>\n",
       "    </tr>\n",
       "    <tr>\n",
       "      <th>...</th>\n",
       "      <td>...</td>\n",
       "      <td>...</td>\n",
       "      <td>...</td>\n",
       "      <td>...</td>\n",
       "      <td>...</td>\n",
       "      <td>...</td>\n",
       "      <td>...</td>\n",
       "      <td>...</td>\n",
       "      <td>...</td>\n",
       "      <td>...</td>\n",
       "      <td>...</td>\n",
       "      <td>...</td>\n",
       "      <td>...</td>\n",
       "      <td>...</td>\n",
       "      <td>...</td>\n",
       "      <td>...</td>\n",
       "      <td>...</td>\n",
       "      <td>...</td>\n",
       "      <td>...</td>\n",
       "      <td>...</td>\n",
       "      <td>...</td>\n",
       "    </tr>\n",
       "    <tr>\n",
       "      <th>409</th>\n",
       "      <td>2980.0</td>\n",
       "      <td>29801.0</td>\n",
       "      <td>0.0</td>\n",
       "      <td>1.0</td>\n",
       "      <td>11.0</td>\n",
       "      <td>0.0</td>\n",
       "      <td>NaN</td>\n",
       "      <td>NaN</td>\n",
       "      <td>NaN</td>\n",
       "      <td>NaN</td>\n",
       "      <td>...</td>\n",
       "      <td>NaN</td>\n",
       "      <td>NaN</td>\n",
       "      <td>NaN</td>\n",
       "      <td>NaN</td>\n",
       "      <td>NaN</td>\n",
       "      <td>NaN</td>\n",
       "      <td>0.142857</td>\n",
       "      <td>7.0</td>\n",
       "      <td>0.777778</td>\n",
       "      <td>0.777778</td>\n",
       "    </tr>\n",
       "    <tr>\n",
       "      <th>410</th>\n",
       "      <td>2981.0</td>\n",
       "      <td>29811.0</td>\n",
       "      <td>1.0</td>\n",
       "      <td>1.0</td>\n",
       "      <td>8.0</td>\n",
       "      <td>0.0</td>\n",
       "      <td>NaN</td>\n",
       "      <td>NaN</td>\n",
       "      <td>NaN</td>\n",
       "      <td>NaN</td>\n",
       "      <td>...</td>\n",
       "      <td>NaN</td>\n",
       "      <td>NaN</td>\n",
       "      <td>NaN</td>\n",
       "      <td>NaN</td>\n",
       "      <td>NaN</td>\n",
       "      <td>NaN</td>\n",
       "      <td>0.416667</td>\n",
       "      <td>7.0</td>\n",
       "      <td>0.700000</td>\n",
       "      <td>0.700000</td>\n",
       "    </tr>\n",
       "    <tr>\n",
       "      <th>411</th>\n",
       "      <td>2985.0</td>\n",
       "      <td>29851.0</td>\n",
       "      <td>0.0</td>\n",
       "      <td>1.0</td>\n",
       "      <td>3.0</td>\n",
       "      <td>0.0</td>\n",
       "      <td>NaN</td>\n",
       "      <td>NaN</td>\n",
       "      <td>NaN</td>\n",
       "      <td>NaN</td>\n",
       "      <td>...</td>\n",
       "      <td>NaN</td>\n",
       "      <td>NaN</td>\n",
       "      <td>NaN</td>\n",
       "      <td>NaN</td>\n",
       "      <td>NaN</td>\n",
       "      <td>NaN</td>\n",
       "      <td>0.321429</td>\n",
       "      <td>6.0</td>\n",
       "      <td>0.666667</td>\n",
       "      <td>0.666667</td>\n",
       "    </tr>\n",
       "    <tr>\n",
       "      <th>412</th>\n",
       "      <td>2986.0</td>\n",
       "      <td>29861.0</td>\n",
       "      <td>0.0</td>\n",
       "      <td>1.0</td>\n",
       "      <td>1.0</td>\n",
       "      <td>0.0</td>\n",
       "      <td>NaN</td>\n",
       "      <td>NaN</td>\n",
       "      <td>NaN</td>\n",
       "      <td>NaN</td>\n",
       "      <td>...</td>\n",
       "      <td>NaN</td>\n",
       "      <td>NaN</td>\n",
       "      <td>NaN</td>\n",
       "      <td>NaN</td>\n",
       "      <td>NaN</td>\n",
       "      <td>NaN</td>\n",
       "      <td>0.273810</td>\n",
       "      <td>7.0</td>\n",
       "      <td>0.700000</td>\n",
       "      <td>0.700000</td>\n",
       "    </tr>\n",
       "    <tr>\n",
       "      <th>413</th>\n",
       "      <td>2999.0</td>\n",
       "      <td>29991.0</td>\n",
       "      <td>0.0</td>\n",
       "      <td>1.0</td>\n",
       "      <td>3.0</td>\n",
       "      <td>0.0</td>\n",
       "      <td>NaN</td>\n",
       "      <td>NaN</td>\n",
       "      <td>NaN</td>\n",
       "      <td>NaN</td>\n",
       "      <td>...</td>\n",
       "      <td>NaN</td>\n",
       "      <td>NaN</td>\n",
       "      <td>NaN</td>\n",
       "      <td>NaN</td>\n",
       "      <td>NaN</td>\n",
       "      <td>NaN</td>\n",
       "      <td>0.297619</td>\n",
       "      <td>4.0</td>\n",
       "      <td>0.666667</td>\n",
       "      <td>0.666667</td>\n",
       "    </tr>\n",
       "  </tbody>\n",
       "</table>\n",
       "<p>412 rows × 1065 columns</p>\n",
       "</div>"
      ],
      "text/plain": [
       "      BYSID    BYHID  GENDER  BYSCLASS  region  schooltype  F2S01004  \\\n",
       "0    1003.0  10031.0     1.0       1.0     8.0         7.0       1.0   \n",
       "1    1005.0  10051.0     1.0       1.0    15.0         5.0       1.0   \n",
       "2    1007.0  10071.0     1.0       1.0     2.0         7.0       2.0   \n",
       "3    1008.0  10081.0     1.0       1.0     8.0         7.0       2.0   \n",
       "4    1010.0  10101.0     1.0       1.0     8.0         7.0       1.0   \n",
       "..      ...      ...     ...       ...     ...         ...       ...   \n",
       "409  2980.0  29801.0     0.0       1.0    11.0         0.0       NaN   \n",
       "410  2981.0  29811.0     1.0       1.0     8.0         0.0       NaN   \n",
       "411  2985.0  29851.0     0.0       1.0     3.0         0.0       NaN   \n",
       "412  2986.0  29861.0     0.0       1.0     1.0         0.0       NaN   \n",
       "413  2999.0  29991.0     0.0       1.0     3.0         0.0       NaN   \n",
       "\n",
       "     F2S01005  F2S01006  F2S01007  ...  F3H12026  F3H12027  F3H13001  \\\n",
       "0         0.0       1.0       0.0  ...       NaN       NaN       NaN   \n",
       "1         0.0       1.0       0.0  ...       NaN       NaN       NaN   \n",
       "2         0.0       1.0       1.0  ...       NaN       NaN       NaN   \n",
       "3         0.0       1.0       0.0  ...       NaN       NaN       NaN   \n",
       "4         0.0       1.0       0.0  ...       NaN       NaN       NaN   \n",
       "..        ...       ...       ...  ...       ...       ...       ...   \n",
       "409       NaN       NaN       NaN  ...       NaN       NaN       NaN   \n",
       "410       NaN       NaN       NaN  ...       NaN       NaN       NaN   \n",
       "411       NaN       NaN       NaN  ...       NaN       NaN       NaN   \n",
       "412       NaN       NaN       NaN  ...       NaN       NaN       NaN   \n",
       "413       NaN       NaN       NaN  ...       NaN       NaN       NaN   \n",
       "\n",
       "     F3H13002  F3H13003  F3H13004  income_rank_p  perf  pefshare  perfshare  \n",
       "0         NaN       NaN       NaN       0.547619   6.0  0.666667   0.666667  \n",
       "1         NaN       NaN       NaN       0.380952   4.0  0.571429   0.571429  \n",
       "2         NaN       NaN       NaN       0.511905   6.0  0.666667   0.666667  \n",
       "3         NaN       NaN       NaN       0.452381   7.0  0.777778   0.777778  \n",
       "4         NaN       NaN       NaN       0.583333   5.0  0.625000   0.625000  \n",
       "..        ...       ...       ...            ...   ...       ...        ...  \n",
       "409       NaN       NaN       NaN       0.142857   7.0  0.777778   0.777778  \n",
       "410       NaN       NaN       NaN       0.416667   7.0  0.700000   0.700000  \n",
       "411       NaN       NaN       NaN       0.321429   6.0  0.666667   0.666667  \n",
       "412       NaN       NaN       NaN       0.273810   7.0  0.700000   0.700000  \n",
       "413       NaN       NaN       NaN       0.297619   4.0  0.666667   0.666667  \n",
       "\n",
       "[412 rows x 1065 columns]"
      ]
     },
     "execution_count": 78,
     "metadata": {},
     "output_type": "execute_result"
    }
   ],
   "source": [
    "df[df['F2S01109']>0] #412명"
   ]
  },
  {
   "cell_type": "markdown",
   "metadata": {},
   "source": [
    "<h2>Self-Assessment Real Proxy for Each Subjects</h2>"
   ]
  },
  {
   "cell_type": "code",
   "execution_count": 24,
   "metadata": {},
   "outputs": [],
   "source": [
    "# 과목 잘한다 (1 전혀 그렇지 않다 - 5 매우 그렇다)\n",
    "df_b = pd.merge(df, df_sat)\n",
    "\n",
    "df_b = df_b[df_b['F3S01100']>0]\n",
    "df_b = df_b[df_b['F3S01103']>0]\n",
    "df_b = df_b[df_b['F3S01106']>0]\n",
    "\n",
    "df_b = df_b.rename(columns = {'F3S01100': 'korean_b', 'F3S01103': 'math_b', 'F3S01106':'eng_b'})\n",
    "df_b = df_b.rename(columns = {\"AT08_32\": 'korean_sat',\"AT08_33\": 'math_sat',\"AT08_34\": 'eng_sat'})\n",
    "\n",
    "df_b = df_b[df_b['korean_sat']>0]\n",
    "df_b = df_b[df_b['math_sat']>0]\n",
    "df_b = df_b[df_b['eng_sat']>0]"
   ]
  },
  {
   "cell_type": "code",
   "execution_count": 25,
   "metadata": {},
   "outputs": [],
   "source": [
    "beliefs = ['korean_b','math_b','eng_b']\n",
    "sat = ['korean_sat', 'math_sat', 'eng_sat']\n",
    "\n",
    "subjects = ['korean', 'math', 'eng']\n",
    "\n",
    "for b in beliefs:\n",
    "    df_b[b] = (5-df_b[b]) + 1"
   ]
  },
  {
   "cell_type": "code",
   "execution_count": 26,
   "metadata": {},
   "outputs": [
    {
     "data": {
      "text/plain": [
       "False    1239\n",
       "Name: korean_b, dtype: int64"
      ]
     },
     "execution_count": 26,
     "metadata": {},
     "output_type": "execute_result"
    }
   ],
   "source": [
    "df_b['korean_b'].isna().value_counts()"
   ]
  },
  {
   "cell_type": "code",
   "execution_count": 27,
   "metadata": {},
   "outputs": [],
   "source": [
    "subjects = ['korean', 'math', 'eng']\n",
    "\n",
    "for s in subjects:\n",
    "    df_b[s+'_b_gap'] = df_b[s+'_b'] - df_b[s+'_sat']\n",
    "    #print(len(df_b[df_b[s+'_b_gap']<0])) # underestimate themselves\n",
    "    \n",
    "for s in subjects:\n",
    "    df_b[s+'_b_gap_abs'] = abs(df_b[s+'_b_gap'])"
   ]
  },
  {
   "cell_type": "code",
   "execution_count": 32,
   "metadata": {},
   "outputs": [],
   "source": [
    "b_gap = df_b[['korean_b_gap','math_b_gap', 'eng_b_gap']].describe().round(2)\n",
    "b_gap.to_latex('b_gap_nonabs.tex')"
   ]
  },
  {
   "cell_type": "code",
   "execution_count": 28,
   "metadata": {},
   "outputs": [],
   "source": [
    "df['total_b_gap_abs'] = (df_b['korean_b_gap_abs'] + df_b['math_b_gap_abs'] + df_b['eng_b_gap_abs'])/3"
   ]
  },
  {
   "cell_type": "code",
   "execution_count": 30,
   "metadata": {},
   "outputs": [],
   "source": [
    "b_gaps = df['total_b_gap_abs'].describe().round(2)\n",
    "b_gaps.to_latex('b_gaps.tex')"
   ]
  },
  {
   "cell_type": "code",
   "execution_count": 101,
   "metadata": {},
   "outputs": [
    {
     "name": "stdout",
     "output_type": "stream",
     "text": [
      "[[1.         0.09225555]\n",
      " [0.09225555 1.        ]]\n",
      "[[1.         0.03512973]\n",
      " [0.03512973 1.        ]]\n",
      "[[1.         0.07978247]\n",
      " [0.07978247 1.        ]]\n"
     ]
    }
   ],
   "source": [
    "df_b['perf'] = df_b['favorablejudg']+df_b['negativejudg']\n",
    "df_b['perfshare'] = df_b['perf'] / (df_b['perf'] + df_b['learning'])\n",
    "\n",
    "for s in subjects:\n",
    "    print(np.corrcoef(df_b[s+'_b_gap_abs'], df_b['perfshare']))"
   ]
  },
  {
   "cell_type": "code",
   "execution_count": 106,
   "metadata": {},
   "outputs": [
    {
     "name": "stdout",
     "output_type": "stream",
     "text": [
      "=======================================================\n",
      "Dependent variable:\tkorean_b_gap_abs\n",
      "N:\t\t\t1239\n",
      "R-squared:\t\t0.0970\n",
      "Estimation method:\tOLS\n",
      "VCE method:\t\tStandard (Homosk.)\n",
      "=======================================================\n",
      "               coeff    se      t   p>t CI_low CI_high\n",
      "income_rank_p -1.742 0.230 -7.574 0.000 -2.193  -1.290\n",
      "region        -0.009 0.010 -0.952 0.341 -0.028   0.010\n",
      "schooltype    -0.076 0.015 -5.194 0.000 -0.105  -0.047\n",
      "GENDER         0.551 0.091  6.057 0.000  0.373   0.729\n",
      "year           0.001 0.000  7.154 0.000  0.001   0.002\n",
      "perfshare      1.389 0.454  3.056 0.002  0.497   2.281\n",
      "=======================================================\n",
      "\n"
     ]
    }
   ],
   "source": [
    "exog = ['income_rank_p', 'region', 'schooltype', 'GENDER', 'year','perfshare']\n",
    "print(mt.reg(df_b, 'korean_b_gap_abs', exog))"
   ]
  },
  {
   "cell_type": "markdown",
   "metadata": {},
   "source": [
    "<h2> parents </h2>"
   ]
  },
  {
   "cell_type": "code",
   "execution_count": 107,
   "metadata": {},
   "outputs": [],
   "source": [
    "df_HH1, meta = pyreadstat.read_sav(\"C:/Users/thxkn/OneDrive/바탕 화면/CV/박사지원서류/WS_HJ/KEEP/KEEPData_1-12Wave_Ver12/DATA(수능, 직업력, 가중치, 패널조사현황 자료 포함)/1-12차년도 DATA(SPSS)/1차년도(2004) DATA/중학교 3학년생 코호트/by_m_household.sav\")"
   ]
  },
  {
   "cell_type": "code",
   "execution_count": 108,
   "metadata": {},
   "outputs": [
    {
     "data": {
      "text/plain": [
       "0       5.0\n",
       "1       5.0\n",
       "2       5.0\n",
       "3       7.0\n",
       "4       3.0\n",
       "       ... \n",
       "1946    5.0\n",
       "1947    7.0\n",
       "1948    4.0\n",
       "1949    5.0\n",
       "1950    7.0\n",
       "Name: BYH26006, Length: 1951, dtype: float64"
      ]
     },
     "execution_count": 108,
     "metadata": {},
     "output_type": "execute_result"
    }
   ],
   "source": [
    "\n",
    "# 1 : parents 2: father, 3: mother "
   ]
  },
  {
   "cell_type": "code",
   "execution_count": 110,
   "metadata": {},
   "outputs": [
    {
     "data": {
      "text/plain": [
       " 5.0    945\n",
       " 7.0    413\n",
       " 4.0    205\n",
       " 6.0    113\n",
       "-4.0    106\n",
       " 3.0     86\n",
       " 8.0     52\n",
       " 9.0     18\n",
       " 2.0      8\n",
       "-3.0      5\n",
       "Name: BYH26006, dtype: int64"
      ]
     },
     "execution_count": 110,
     "metadata": {},
     "output_type": "execute_result"
    }
   ],
   "source": [
    "#educational background of legal guradians'BYH26006', 'BYH27006'\n",
    "df_HH1['BYH26006'].value_counts()\n",
    "#df_HH1['BYH27006'].isna().value_counts()"
   ]
  },
  {
   "cell_type": "code",
   "execution_count": 112,
   "metadata": {},
   "outputs": [
    {
     "data": {
      "text/plain": [
       " 5.0    1141\n",
       " 4.0     309\n",
       " 7.0     217\n",
       " 3.0     105\n",
       " 6.0      66\n",
       "-4.0      55\n",
       " 8.0      27\n",
       " 2.0      18\n",
       " 9.0       8\n",
       "-3.0       5\n",
       "Name: BYH27006, dtype: int64"
      ]
     },
     "execution_count": 112,
     "metadata": {},
     "output_type": "execute_result"
    }
   ],
   "source": [
    "df_HH1['BYH27006'].value_counts()"
   ]
  },
  {
   "cell_type": "code",
   "execution_count": 116,
   "metadata": {},
   "outputs": [],
   "source": [
    "df_HH1['parental_edu'] = df_HH1[['BYH26006','BYH27006']].max(axis = 1)"
   ]
  },
  {
   "cell_type": "code",
   "execution_count": 118,
   "metadata": {},
   "outputs": [],
   "source": [
    "df_HH1 = df_HH1[df_HH1['parental_edu']>0]"
   ]
  },
  {
   "cell_type": "code",
   "execution_count": 121,
   "metadata": {},
   "outputs": [],
   "source": [
    "df_b_p = pd.merge(df_b, df_HH1)"
   ]
  },
  {
   "cell_type": "code",
   "execution_count": 140,
   "metadata": {},
   "outputs": [
    {
     "data": {
      "text/plain": [
       "875"
      ]
     },
     "execution_count": 140,
     "metadata": {},
     "output_type": "execute_result"
    }
   ],
   "source": [
    "len(df_b_p)"
   ]
  },
  {
   "cell_type": "code",
   "execution_count": 127,
   "metadata": {},
   "outputs": [
    {
     "data": {
      "text/plain": [
       "<matplotlib.axes._subplots.AxesSubplot at 0x189744207c8>"
      ]
     },
     "execution_count": 127,
     "metadata": {},
     "output_type": "execute_result"
    },
    {
     "data": {
      "image/png": "[encoded data removed]",
      "text/plain": [
       "<Figure size 432x288 with 1 Axes>"
      ]
     },
     "metadata": {
      "needs_background": "light"
     },
     "output_type": "display_data"
    }
   ],
   "source": [
    "# 사교육비 BYH22002\n",
    "df_b_p['BYH22002'].hist()"
   ]
  },
  {
   "cell_type": "code",
   "execution_count": 122,
   "metadata": {
    "scrolled": true
   },
   "outputs": [
    {
     "name": "stdout",
     "output_type": "stream",
     "text": [
      "=======================================================\n",
      "Dependent variable:\tkorean_b_gap_abs\n",
      "N:\t\t\t875\n",
      "R-squared:\t\t0.1040\n",
      "Estimation method:\tOLS\n",
      "VCE method:\t\tStandard (Homosk.)\n",
      "=======================================================\n",
      "               coeff    se      t   p>t CI_low CI_high\n",
      "income_rank_p -0.795 0.299 -2.662 0.008 -1.382  -0.209\n",
      "region        -0.017 0.011 -1.527 0.127 -0.039   0.005\n",
      "schooltype    -0.166 0.025 -6.693 0.000 -0.214  -0.117\n",
      "GENDER         0.357 0.104  3.434 0.001  0.153   0.561\n",
      "year           0.002 0.000  8.324 0.000  0.001   0.002\n",
      "perfshare      1.084 0.531  2.040 0.042  0.041   2.126\n",
      "parental_edu  -0.165 0.047 -3.484 0.001 -0.258  -0.072\n",
      "=======================================================\n",
      "\n"
     ]
    }
   ],
   "source": [
    "exog = ['income_rank_p', 'region', 'schooltype', 'GENDER', 'year','perfshare', 'parental_edu']\n",
    "print(mt.reg(df_b_p, 'korean_b_gap_abs', exog))"
   ]
  },
  {
   "cell_type": "code",
   "execution_count": 130,
   "metadata": {
    "scrolled": true
   },
   "outputs": [
    {
     "name": "stdout",
     "output_type": "stream",
     "text": [
      "=======================================================\n",
      "Dependent variable:\tmath_b_gap_abs\n",
      "N:\t\t\t875\n",
      "R-squared:\t\t0.0722\n",
      "Estimation method:\tOLS\n",
      "VCE method:\t\tStandard (Homosk.)\n",
      "=======================================================\n",
      "              coeff    se      t   p>t CI_low CI_high\n",
      "region        0.007 0.010  0.699 0.485 -0.013   0.028\n",
      "schooltype   -0.168 0.023 -7.321 0.000 -0.213  -0.123\n",
      "GENDER        0.285 0.096  2.954 0.003  0.096   0.474\n",
      "year          0.001 0.000  6.871 0.000  0.001   0.002\n",
      "perfshare     0.272 0.492  0.553 0.580 -0.694   1.239\n",
      "parental_edu -0.054 0.041 -1.322 0.187 -0.134   0.026\n",
      "=======================================================\n",
      "\n"
     ]
    }
   ],
   "source": [
    "exog = [ 'region', 'schooltype', 'GENDER', 'year','perfshare', 'parental_edu']\n",
    "print(mt.reg(df_b_p, 'math_b_gap_abs', exog))"
   ]
  },
  {
   "cell_type": "code",
   "execution_count": 133,
   "metadata": {
    "scrolled": false
   },
   "outputs": [
    {
     "name": "stdout",
     "output_type": "stream",
     "text": [
      "=======================================================\n",
      "Dependent variable:\teng_b_gap_abs\n",
      "N:\t\t\t875\n",
      "R-squared:\t\t0.1107\n",
      "Estimation method:\tOLS\n",
      "VCE method:\t\tStandard (Homosk.)\n",
      "=======================================================\n",
      "              coeff    se      t   p>t CI_low CI_high\n",
      "region       -0.002 0.011 -0.153 0.878 -0.022   0.019\n",
      "schooltype   -0.173 0.023 -7.464 0.000 -0.219  -0.128\n",
      "GENDER        0.300 0.098  3.076 0.002  0.109   0.492\n",
      "year          0.002 0.000  8.628 0.000  0.001   0.002\n",
      "perfshare     0.993 0.499  1.990 0.047  0.013   1.972\n",
      "parental_edu -0.230 0.041 -5.577 0.000 -0.311  -0.149\n",
      "=======================================================\n",
      "\n"
     ]
    }
   ],
   "source": [
    "exog = [ 'region', 'schooltype', 'GENDER', 'year','perfshare', 'parental_edu']\n",
    "print(mt.reg(df_b_p, 'eng_b_gap_abs', exog))"
   ]
  },
  {
   "cell_type": "code",
   "execution_count": 134,
   "metadata": {},
   "outputs": [],
   "source": [
    "#df.to_excel('df.xlsx')\n",
    "#df_b.to_excel('df_b.xlsx')\n",
    "#df_b_p.to_excel('df_b_p.xlsx')"
   ]
  },
  {
   "cell_type": "markdown",
   "metadata": {},
   "source": [
    "<h1> Future Earnings </h1>"
   ]
  },
  {
   "cell_type": "code",
   "execution_count": 138,
   "metadata": {},
   "outputs": [],
   "source": [
    "# 학생 earning (2015) \"F11Y05034\"\n",
    "\n",
    "df_youth, meta = pyreadstat.read_sav(\"C:/Users/thxkn/OneDrive/바탕 화면/CV/박사지원서류/WS_HJ/KEEP/KEEPData_1-12Wave_Ver12/DATA(수능, 직업력, 가중치, 패널조사현황 자료 포함)/1-12차년도 DATA(SPSS)/12차년도(2015) DATA/중학교 3학년 코호트/f11_m_youth.sav\")"
   ]
  },
  {
   "cell_type": "code",
   "execution_count": 139,
   "metadata": {},
   "outputs": [],
   "source": [
    "df_youth = df_youth.rename(columns = {\"F11Y05034\": \"income_st\"})"
   ]
  },
  {
   "cell_type": "code",
   "execution_count": 141,
   "metadata": {
    "scrolled": true
   },
   "outputs": [
    {
     "data": {
      "text/plain": [
       "367"
      ]
     },
     "execution_count": 141,
     "metadata": {},
     "output_type": "execute_result"
    }
   ],
   "source": [
    "df_bpi = pd.merge(df_b_p, df_youth)\n",
    "len(df_bpi)"
   ]
  },
  {
   "cell_type": "code",
   "execution_count": 143,
   "metadata": {},
   "outputs": [],
   "source": [
    "df_bpi = df_bpi[df_bpi['income_st']>0]"
   ]
  },
  {
   "cell_type": "code",
   "execution_count": 150,
   "metadata": {},
   "outputs": [
    {
     "name": "stdout",
     "output_type": "stream",
     "text": [
      "=======================================================\n",
      "Dependent variable:\tincome_st\n",
      "N:\t\t\t151\n",
      "R-squared:\t\t-25576607501071228156998844416.0000\n",
      "Estimation method:\tOLS\n",
      "VCE method:\t\tStandard (Homosk.)\n",
      "=======================================================\n",
      "                               coeff                   se      t   p>t                 CI_low               CI_high\n",
      "perfshare     -18378910317440960.000 6771164114290793.000 -2.714 0.007 -31761842381209968.000 -4995978253671952.000\n",
      "region            51671655682492.500  219557261603262.594  0.235 0.814   -382274393556247.688   485617704921232.688\n",
      "schooltype        49355022230891.000  404831734655218.438  0.122 0.903   -750778530981031.125   849488575442813.125\n",
      "GENDER         -9007199254740992.000                  nan    nan   nan                    nan                   nan\n",
      "year               4398046511104.000                  nan    nan   nan                    nan                   nan\n",
      "income_rank_p                  0.000 3670717716707227.500  0.000 1.000  -7255025132869849.000  7255025132869849.000\n",
      "=======================================================\n",
      "\n"
     ]
    },
    {
     "name": "stderr",
     "output_type": "stream",
     "text": [
      "C:\\Users\\thxkn\\anaconda3\\lib\\site-packages\\econtools\\metrics\\core.py:203: RuntimeWarning: invalid value encountered in sqrt\n",
      "  se = pd.Series(np.sqrt(np.diagonal(vce)), index=vce.columns)\n",
      "C:\\Users\\thxkn\\anaconda3\\lib\\site-packages\\scipy\\stats\\_distn_infrastructure.py:903: RuntimeWarning: invalid value encountered in greater\n",
      "  return (a < x) & (x < b)\n",
      "C:\\Users\\thxkn\\anaconda3\\lib\\site-packages\\scipy\\stats\\_distn_infrastructure.py:903: RuntimeWarning: invalid value encountered in less\n",
      "  return (a < x) & (x < b)\n",
      "C:\\Users\\thxkn\\anaconda3\\lib\\site-packages\\scipy\\stats\\_distn_infrastructure.py:1827: RuntimeWarning: invalid value encountered in greater_equal\n",
      "  cond2 = (x >= np.asarray(_b)) & cond0\n"
     ]
    }
   ],
   "source": [
    "exog = ['perfshare','region', 'schooltype', 'GENDER', 'year', 'income_rank_p']\n",
    "print(mt.reg(df_bpi, 'income_st', exog))"
   ]
  }
 ],
 "metadata": {
  "kernelspec": {
   "display_name": "Python 3",
   "language": "python",
   "name": "python3"
  },
  "language_info": {
   "codemirror_mode": {
    "name": "ipython",
    "version": 3
   },
   "file_extension": ".py",
   "mimetype": "text/x-python",
   "name": "python",
   "nbconvert_exporter": "python",
   "pygments_lexer": "ipython3",
   "version": "3.7.6"
  }
 },
 "nbformat": 4,
 "nbformat_minor": 4
}
