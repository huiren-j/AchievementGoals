{
 "cells": [
  {
   "cell_type": "code",
   "execution_count": 1,
   "metadata": {},
   "outputs": [],
   "source": [
    "import pandas as pd\n",
    "import pyreadstat\n",
    "import numpy as np\n",
    "import seaborn as sns\n",
    "import matplotlib.pyplot as plt \n",
    "\n",
    "import econtools as econ\n",
    "import econtools.metrics as mt\n",
    "import math\n"
   ]
  },
  {
   "cell_type": "code",
   "execution_count": 2,
   "metadata": {},
   "outputs": [],
   "source": [
    "# 3차 \n",
    "df_HH3, meta = pyreadstat.read_sav(\"C:/Users/thxkn/OneDrive/바탕 화면/CV/박사지원서류/WS_HJ/KEEP/KEEPData_1-12Wave_Ver12/DATA(수능, 직업력, 가중치, 패널조사현황 자료 포함)/1-12차년도 DATA(SPSS)/3차년도(2006) DATA/중학교 3학년생 코호트/f2_m_household.sav\")\n",
    "\n",
    "#소득 [F2H04001]\n",
    "df_HH3[\"F2H04001\"].describe()\n",
    "df_HH3 = df_HH3.rename(columns = {\"F2H04001\": \"income\"})\n",
    "df_HH3 = df_HH3[df_HH3[\"income\"]>0]\n",
    "df_HH3[\"year\"] = 2003\n"
   ]
  },
  {
   "cell_type": "code",
   "execution_count": 3,
   "metadata": {},
   "outputs": [],
   "source": [
    "# 4차\n",
    "df_HH4, meta = pyreadstat.read_sav(\"C:/Users/thxkn/OneDrive/바탕 화면/CV/박사지원서류/WS_HJ/KEEP/KEEPData_1-12Wave_Ver12/DATA(수능, 직업력, 가중치, 패널조사현황 자료 포함)/1-12차년도 DATA(SPSS)/4차년도(2007) DATA/중학교 3학년생 코호트/f3_m_household.sav\")\n",
    "\n",
    "#소득 F3H08001\n",
    "df_HH4[\"F3H08001\"].describe()\n",
    "df_HH4 = df_HH4.rename(columns = {\"F3H08001\": \"income\"})\n",
    "df_HH4 = df_HH4[df_HH4[\"income\"]>0]\n",
    "df_HH4[\"year\"] = 2004"
   ]
  },
  {
   "cell_type": "code",
   "execution_count": 4,
   "metadata": {},
   "outputs": [
    {
     "data": {
      "text/plain": [
       "4057"
      ]
     },
     "execution_count": 4,
     "metadata": {},
     "output_type": "execute_result"
    }
   ],
   "source": [
    "df_HH = pd.concat([df_HH3, df_HH4])\n",
    "len(df_HH)"
   ]
  },
  {
   "cell_type": "code",
   "execution_count": 100,
   "metadata": {},
   "outputs": [],
   "source": [
    "# 3차_학생 고등학교 일반계 , 전문계\n",
    "\n",
    "df_st3, meta = pyreadstat.read_sav(\"C:/Users/thxkn/OneDrive/바탕 화면/CV/박사지원서류/WS_HJ/KEEP/KEEPData_1-12Wave_Ver12/DATA(수능, 직업력, 가중치, 패널조사현황 자료 포함)/1-12차년도 DATA(SPSS)/3차년도(2006) DATA/중학교 3학년생 코호트/f2_m_highschool_st.sav\")\n",
    "df_st_v3, meta = pyreadstat.read_sav(\"C:/Users/thxkn/OneDrive/바탕 화면/CV/박사지원서류/WS_HJ/KEEP/KEEPData_1-12Wave_Ver12/DATA(수능, 직업력, 가중치, 패널조사현황 자료 포함)/1-12차년도 DATA(SPSS)/3차년도(2006) DATA/중학교 3학년생 코호트/f2_m_vocationalhighschool_st.sav\")\n",
    "df3 = pd.concat([df_st3, df_st_v3])\n",
    "df3[\"year\"] = 2003"
   ]
  },
  {
   "cell_type": "code",
   "execution_count": 101,
   "metadata": {},
   "outputs": [],
   "source": [
    "df3 = df3.rename(columns={'F2S01003':'typeofschool'})\n",
    "df3 = df3.rename(columns={'F2S01002':'region'})"
   ]
  },
  {
   "cell_type": "code",
   "execution_count": 102,
   "metadata": {},
   "outputs": [],
   "source": [
    "# 4차_학생 고등학교 일반계, 전문계\n",
    "\n",
    "df_st4, meta = pyreadstat.read_sav(\"C:/Users/thxkn/OneDrive/바탕 화면/CV/박사지원서류/WS_HJ/KEEP/KEEPData_1-12Wave_Ver12/DATA(수능, 직업력, 가중치, 패널조사현황 자료 포함)/1-12차년도 DATA(SPSS)/4차년도(2007) DATA/중학교 3학년생 코호트/f3_m_highschool_st.sav\")\n",
    "df_st_v4, meta = pyreadstat.read_sav(\"C:/Users/thxkn/OneDrive/바탕 화면/CV/박사지원서류/WS_HJ/KEEP/KEEPData_1-12Wave_Ver12/DATA(수능, 직업력, 가중치, 패널조사현황 자료 포함)/1-12차년도 DATA(SPSS)/4차년도(2007) DATA/중학교 3학년생 코호트/f3_m_vocationalhighschool_st.sav\")\n",
    "df4 = pd.concat([df_st4, df_st_v4])\n",
    "df4[\"year\"] = 2004\n",
    "df4 = df4.rename(columns={'F3S01003':'typeofschool'})\n",
    "df4 = df4.rename(columns={'F3S01002':'region'})"
   ]
  },
  {
   "cell_type": "code",
   "execution_count": 137,
   "metadata": {},
   "outputs": [],
   "source": [
    "df = pd.concat([df3, df4])"
   ]
  },
  {
   "cell_type": "code",
   "execution_count": 138,
   "metadata": {},
   "outputs": [
    {
     "data": {
      "text/plain": [
       "4715"
      ]
     },
     "execution_count": 138,
     "metadata": {},
     "output_type": "execute_result"
    }
   ],
   "source": [
    "len(df)"
   ]
  },
  {
   "cell_type": "code",
   "execution_count": 139,
   "metadata": {},
   "outputs": [
    {
     "data": {
      "text/plain": [
       "2004    2976\n",
       "2003    1739\n",
       "Name: year, dtype: int64"
      ]
     },
     "execution_count": 139,
     "metadata": {},
     "output_type": "execute_result"
    }
   ],
   "source": [
    "df['year'].value_counts()"
   ]
  },
  {
   "cell_type": "code",
   "execution_count": 140,
   "metadata": {},
   "outputs": [
    {
     "data": {
      "text/plain": [
       "1    2857\n",
       "0    1858\n",
       "Name: hs_group, dtype: int64"
      ]
     },
     "execution_count": 140,
     "metadata": {},
     "output_type": "execute_result"
    }
   ],
   "source": [
    "# 일반계 (1), 전문계 (0) 표시\n",
    "hs_list3 = df_st3[\"BYSID\"].to_list()\n",
    "hs_list4 = df_st4[\"BYSID\"].to_list()\n",
    "df[\"hs_group\"] = 0\n",
    "df.loc[df[\"BYSID\"].isin(hs_list3) == True, \"hs_group\"] = 1\n",
    "df.loc[df[\"BYSID\"].isin(hs_list4) == True, \"hs_group\"] = 1\n",
    "df[\"hs_group\"].value_counts()"
   ]
  },
  {
   "cell_type": "markdown",
   "metadata": {},
   "source": [
    "<h2>Main Dataset</h2>"
   ]
  },
  {
   "cell_type": "code",
   "execution_count": 141,
   "metadata": {},
   "outputs": [],
   "source": [
    "df = pd.merge(df, df_HH)\n",
    "#df3 does not have information about teacehrs #mighbe use 1차년도 teacher (2차년도-고1-teacher도 없음)"
   ]
  },
  {
   "cell_type": "code",
   "execution_count": 142,
   "metadata": {
    "scrolled": true
   },
   "outputs": [
    {
     "data": {
      "text/html": [
       "<div>\n",
       "<style scoped>\n",
       "    .dataframe tbody tr th:only-of-type {\n",
       "        vertical-align: middle;\n",
       "    }\n",
       "\n",
       "    .dataframe tbody tr th {\n",
       "        vertical-align: top;\n",
       "    }\n",
       "\n",
       "    .dataframe thead th {\n",
       "        text-align: right;\n",
       "    }\n",
       "</style>\n",
       "<table border=\"1\" class=\"dataframe\">\n",
       "  <thead>\n",
       "    <tr style=\"text-align: right;\">\n",
       "      <th></th>\n",
       "      <th>BYSID</th>\n",
       "      <th>BYHID</th>\n",
       "      <th>GENDER</th>\n",
       "      <th>BYSCLASS</th>\n",
       "      <th>region</th>\n",
       "      <th>typeofschool</th>\n",
       "      <th>F2S01004</th>\n",
       "      <th>F2S01005</th>\n",
       "      <th>F2S01006</th>\n",
       "      <th>F2S01007</th>\n",
       "      <th>...</th>\n",
       "      <th>F3H12022</th>\n",
       "      <th>F3H12023</th>\n",
       "      <th>F3H12024</th>\n",
       "      <th>F3H12025</th>\n",
       "      <th>F3H12026</th>\n",
       "      <th>F3H12027</th>\n",
       "      <th>F3H13001</th>\n",
       "      <th>F3H13002</th>\n",
       "      <th>F3H13003</th>\n",
       "      <th>F3H13004</th>\n",
       "    </tr>\n",
       "  </thead>\n",
       "  <tbody>\n",
       "    <tr>\n",
       "      <th>0</th>\n",
       "      <td>1003.0</td>\n",
       "      <td>10031.0</td>\n",
       "      <td>1.0</td>\n",
       "      <td>1.0</td>\n",
       "      <td>8.0</td>\n",
       "      <td>2.0</td>\n",
       "      <td>1.0</td>\n",
       "      <td>0.0</td>\n",
       "      <td>1.0</td>\n",
       "      <td>0.0</td>\n",
       "      <td>...</td>\n",
       "      <td>NaN</td>\n",
       "      <td>NaN</td>\n",
       "      <td>NaN</td>\n",
       "      <td>NaN</td>\n",
       "      <td>NaN</td>\n",
       "      <td>NaN</td>\n",
       "      <td>NaN</td>\n",
       "      <td>NaN</td>\n",
       "      <td>NaN</td>\n",
       "      <td>NaN</td>\n",
       "    </tr>\n",
       "    <tr>\n",
       "      <th>1</th>\n",
       "      <td>1005.0</td>\n",
       "      <td>10051.0</td>\n",
       "      <td>1.0</td>\n",
       "      <td>1.0</td>\n",
       "      <td>15.0</td>\n",
       "      <td>2.0</td>\n",
       "      <td>1.0</td>\n",
       "      <td>0.0</td>\n",
       "      <td>1.0</td>\n",
       "      <td>0.0</td>\n",
       "      <td>...</td>\n",
       "      <td>NaN</td>\n",
       "      <td>NaN</td>\n",
       "      <td>NaN</td>\n",
       "      <td>NaN</td>\n",
       "      <td>NaN</td>\n",
       "      <td>NaN</td>\n",
       "      <td>NaN</td>\n",
       "      <td>NaN</td>\n",
       "      <td>NaN</td>\n",
       "      <td>NaN</td>\n",
       "    </tr>\n",
       "    <tr>\n",
       "      <th>2</th>\n",
       "      <td>1007.0</td>\n",
       "      <td>10071.0</td>\n",
       "      <td>1.0</td>\n",
       "      <td>1.0</td>\n",
       "      <td>2.0</td>\n",
       "      <td>2.0</td>\n",
       "      <td>2.0</td>\n",
       "      <td>0.0</td>\n",
       "      <td>1.0</td>\n",
       "      <td>1.0</td>\n",
       "      <td>...</td>\n",
       "      <td>NaN</td>\n",
       "      <td>NaN</td>\n",
       "      <td>NaN</td>\n",
       "      <td>NaN</td>\n",
       "      <td>NaN</td>\n",
       "      <td>NaN</td>\n",
       "      <td>NaN</td>\n",
       "      <td>NaN</td>\n",
       "      <td>NaN</td>\n",
       "      <td>NaN</td>\n",
       "    </tr>\n",
       "    <tr>\n",
       "      <th>3</th>\n",
       "      <td>1008.0</td>\n",
       "      <td>10081.0</td>\n",
       "      <td>1.0</td>\n",
       "      <td>1.0</td>\n",
       "      <td>8.0</td>\n",
       "      <td>2.0</td>\n",
       "      <td>2.0</td>\n",
       "      <td>0.0</td>\n",
       "      <td>1.0</td>\n",
       "      <td>0.0</td>\n",
       "      <td>...</td>\n",
       "      <td>NaN</td>\n",
       "      <td>NaN</td>\n",
       "      <td>NaN</td>\n",
       "      <td>NaN</td>\n",
       "      <td>NaN</td>\n",
       "      <td>NaN</td>\n",
       "      <td>NaN</td>\n",
       "      <td>NaN</td>\n",
       "      <td>NaN</td>\n",
       "      <td>NaN</td>\n",
       "    </tr>\n",
       "    <tr>\n",
       "      <th>4</th>\n",
       "      <td>1010.0</td>\n",
       "      <td>10101.0</td>\n",
       "      <td>1.0</td>\n",
       "      <td>1.0</td>\n",
       "      <td>8.0</td>\n",
       "      <td>2.0</td>\n",
       "      <td>1.0</td>\n",
       "      <td>0.0</td>\n",
       "      <td>1.0</td>\n",
       "      <td>0.0</td>\n",
       "      <td>...</td>\n",
       "      <td>NaN</td>\n",
       "      <td>NaN</td>\n",
       "      <td>NaN</td>\n",
       "      <td>NaN</td>\n",
       "      <td>NaN</td>\n",
       "      <td>NaN</td>\n",
       "      <td>NaN</td>\n",
       "      <td>NaN</td>\n",
       "      <td>NaN</td>\n",
       "      <td>NaN</td>\n",
       "    </tr>\n",
       "    <tr>\n",
       "      <th>...</th>\n",
       "      <td>...</td>\n",
       "      <td>...</td>\n",
       "      <td>...</td>\n",
       "      <td>...</td>\n",
       "      <td>...</td>\n",
       "      <td>...</td>\n",
       "      <td>...</td>\n",
       "      <td>...</td>\n",
       "      <td>...</td>\n",
       "      <td>...</td>\n",
       "      <td>...</td>\n",
       "      <td>...</td>\n",
       "      <td>...</td>\n",
       "      <td>...</td>\n",
       "      <td>...</td>\n",
       "      <td>...</td>\n",
       "      <td>...</td>\n",
       "      <td>...</td>\n",
       "      <td>...</td>\n",
       "      <td>...</td>\n",
       "      <td>...</td>\n",
       "    </tr>\n",
       "    <tr>\n",
       "      <th>3854</th>\n",
       "      <td>7947.0</td>\n",
       "      <td>79471.0</td>\n",
       "      <td>2.0</td>\n",
       "      <td>1.0</td>\n",
       "      <td>2.0</td>\n",
       "      <td>NaN</td>\n",
       "      <td>NaN</td>\n",
       "      <td>NaN</td>\n",
       "      <td>NaN</td>\n",
       "      <td>NaN</td>\n",
       "      <td>...</td>\n",
       "      <td>-5.0</td>\n",
       "      <td>-5.0</td>\n",
       "      <td>-5.0</td>\n",
       "      <td>-5.0</td>\n",
       "      <td>1.0</td>\n",
       "      <td>-2.0</td>\n",
       "      <td>3.0</td>\n",
       "      <td>1.0</td>\n",
       "      <td>2.0</td>\n",
       "      <td>1.0</td>\n",
       "    </tr>\n",
       "    <tr>\n",
       "      <th>3855</th>\n",
       "      <td>7948.0</td>\n",
       "      <td>79481.0</td>\n",
       "      <td>1.0</td>\n",
       "      <td>1.0</td>\n",
       "      <td>8.0</td>\n",
       "      <td>NaN</td>\n",
       "      <td>NaN</td>\n",
       "      <td>NaN</td>\n",
       "      <td>NaN</td>\n",
       "      <td>NaN</td>\n",
       "      <td>...</td>\n",
       "      <td>-5.0</td>\n",
       "      <td>-5.0</td>\n",
       "      <td>-5.0</td>\n",
       "      <td>-5.0</td>\n",
       "      <td>1.0</td>\n",
       "      <td>2.0</td>\n",
       "      <td>1.0</td>\n",
       "      <td>1.0</td>\n",
       "      <td>0.0</td>\n",
       "      <td>1.0</td>\n",
       "    </tr>\n",
       "    <tr>\n",
       "      <th>3856</th>\n",
       "      <td>7949.0</td>\n",
       "      <td>79491.0</td>\n",
       "      <td>2.0</td>\n",
       "      <td>1.0</td>\n",
       "      <td>15.0</td>\n",
       "      <td>NaN</td>\n",
       "      <td>NaN</td>\n",
       "      <td>NaN</td>\n",
       "      <td>NaN</td>\n",
       "      <td>NaN</td>\n",
       "      <td>...</td>\n",
       "      <td>-5.0</td>\n",
       "      <td>-5.0</td>\n",
       "      <td>-5.0</td>\n",
       "      <td>-5.0</td>\n",
       "      <td>2.0</td>\n",
       "      <td>2.0</td>\n",
       "      <td>2.0</td>\n",
       "      <td>0.0</td>\n",
       "      <td>2.0</td>\n",
       "      <td>1.0</td>\n",
       "    </tr>\n",
       "    <tr>\n",
       "      <th>3857</th>\n",
       "      <td>7950.0</td>\n",
       "      <td>79501.0</td>\n",
       "      <td>2.0</td>\n",
       "      <td>1.0</td>\n",
       "      <td>4.0</td>\n",
       "      <td>NaN</td>\n",
       "      <td>NaN</td>\n",
       "      <td>NaN</td>\n",
       "      <td>NaN</td>\n",
       "      <td>NaN</td>\n",
       "      <td>...</td>\n",
       "      <td>-5.0</td>\n",
       "      <td>-5.0</td>\n",
       "      <td>-5.0</td>\n",
       "      <td>-5.0</td>\n",
       "      <td>1.0</td>\n",
       "      <td>2.0</td>\n",
       "      <td>2.0</td>\n",
       "      <td>0.0</td>\n",
       "      <td>2.0</td>\n",
       "      <td>2.0</td>\n",
       "    </tr>\n",
       "    <tr>\n",
       "      <th>3858</th>\n",
       "      <td>7951.0</td>\n",
       "      <td>79511.0</td>\n",
       "      <td>1.0</td>\n",
       "      <td>1.0</td>\n",
       "      <td>1.0</td>\n",
       "      <td>NaN</td>\n",
       "      <td>NaN</td>\n",
       "      <td>NaN</td>\n",
       "      <td>NaN</td>\n",
       "      <td>NaN</td>\n",
       "      <td>...</td>\n",
       "      <td>-5.0</td>\n",
       "      <td>-5.0</td>\n",
       "      <td>-5.0</td>\n",
       "      <td>-5.0</td>\n",
       "      <td>-5.0</td>\n",
       "      <td>-5.0</td>\n",
       "      <td>2.0</td>\n",
       "      <td>2.0</td>\n",
       "      <td>0.0</td>\n",
       "      <td>2.0</td>\n",
       "    </tr>\n",
       "  </tbody>\n",
       "</table>\n",
       "<p>3859 rows × 1073 columns</p>\n",
       "</div>"
      ],
      "text/plain": [
       "       BYSID    BYHID  GENDER  BYSCLASS  region  typeofschool  F2S01004  \\\n",
       "0     1003.0  10031.0     1.0       1.0     8.0           2.0       1.0   \n",
       "1     1005.0  10051.0     1.0       1.0    15.0           2.0       1.0   \n",
       "2     1007.0  10071.0     1.0       1.0     2.0           2.0       2.0   \n",
       "3     1008.0  10081.0     1.0       1.0     8.0           2.0       2.0   \n",
       "4     1010.0  10101.0     1.0       1.0     8.0           2.0       1.0   \n",
       "...      ...      ...     ...       ...     ...           ...       ...   \n",
       "3854  7947.0  79471.0     2.0       1.0     2.0           NaN       NaN   \n",
       "3855  7948.0  79481.0     1.0       1.0     8.0           NaN       NaN   \n",
       "3856  7949.0  79491.0     2.0       1.0    15.0           NaN       NaN   \n",
       "3857  7950.0  79501.0     2.0       1.0     4.0           NaN       NaN   \n",
       "3858  7951.0  79511.0     1.0       1.0     1.0           NaN       NaN   \n",
       "\n",
       "      F2S01005  F2S01006  F2S01007  ...  F3H12022  F3H12023  F3H12024  \\\n",
       "0          0.0       1.0       0.0  ...       NaN       NaN       NaN   \n",
       "1          0.0       1.0       0.0  ...       NaN       NaN       NaN   \n",
       "2          0.0       1.0       1.0  ...       NaN       NaN       NaN   \n",
       "3          0.0       1.0       0.0  ...       NaN       NaN       NaN   \n",
       "4          0.0       1.0       0.0  ...       NaN       NaN       NaN   \n",
       "...        ...       ...       ...  ...       ...       ...       ...   \n",
       "3854       NaN       NaN       NaN  ...      -5.0      -5.0      -5.0   \n",
       "3855       NaN       NaN       NaN  ...      -5.0      -5.0      -5.0   \n",
       "3856       NaN       NaN       NaN  ...      -5.0      -5.0      -5.0   \n",
       "3857       NaN       NaN       NaN  ...      -5.0      -5.0      -5.0   \n",
       "3858       NaN       NaN       NaN  ...      -5.0      -5.0      -5.0   \n",
       "\n",
       "      F3H12025  F3H12026  F3H12027  F3H13001  F3H13002  F3H13003  F3H13004  \n",
       "0          NaN       NaN       NaN       NaN       NaN       NaN       NaN  \n",
       "1          NaN       NaN       NaN       NaN       NaN       NaN       NaN  \n",
       "2          NaN       NaN       NaN       NaN       NaN       NaN       NaN  \n",
       "3          NaN       NaN       NaN       NaN       NaN       NaN       NaN  \n",
       "4          NaN       NaN       NaN       NaN       NaN       NaN       NaN  \n",
       "...        ...       ...       ...       ...       ...       ...       ...  \n",
       "3854      -5.0       1.0      -2.0       3.0       1.0       2.0       1.0  \n",
       "3855      -5.0       1.0       2.0       1.0       1.0       0.0       1.0  \n",
       "3856      -5.0       2.0       2.0       2.0       0.0       2.0       1.0  \n",
       "3857      -5.0       1.0       2.0       2.0       0.0       2.0       2.0  \n",
       "3858      -5.0      -5.0      -5.0       2.0       2.0       0.0       2.0  \n",
       "\n",
       "[3859 rows x 1073 columns]"
      ]
     },
     "execution_count": 142,
     "metadata": {},
     "output_type": "execute_result"
    }
   ],
   "source": [
    "df"
   ]
  },
  {
   "cell_type": "code",
   "execution_count": 143,
   "metadata": {},
   "outputs": [],
   "source": [
    "# 남 1, 여 0\n",
    "df.loc[df['GENDER']==2.0, 'GENDER'] =0"
   ]
  },
  {
   "cell_type": "code",
   "execution_count": 144,
   "metadata": {},
   "outputs": [],
   "source": [
    "# income rank 03 \n",
    "a = df.loc[df['year'] == 2003, \"income\"]\n",
    "\n",
    "df[\"income_rank_p\"] = np.nan\n",
    "df.loc[ df['year'] == 2003 , \"income_rank_p\"] = a.rank(method = 'dense') \n",
    "df.loc[ df['year'] == 2003 , \"income_rank_p\"] = df.loc[ df['year'] == 2003 , \"income_rank_p\"]/ df.loc[ df['year'] == 2003 , \"income_rank_p\"].max()"
   ]
  },
  {
   "cell_type": "code",
   "execution_count": 145,
   "metadata": {},
   "outputs": [],
   "source": [
    "# income rank 04\n",
    "a = df.loc[df['year'] == 2004, \"income\"]\n",
    "\n",
    "df.loc[ df['year'] == 2004 , \"income_rank_p\"] = a.rank(method = 'dense') \n",
    "df.loc[ df['year'] == 2004 , \"income_rank_p\"] = df.loc[ df['year'] == 2004 , \"income_rank_p\"]/ df.loc[ df['year'] == 2004 , \"income_rank_p\"].max()"
   ]
  },
  {
   "cell_type": "code",
   "execution_count": 146,
   "metadata": {},
   "outputs": [
    {
     "data": {
      "text/plain": [
       "False    3859\n",
       "Name: income_rank_p, dtype: int64"
      ]
     },
     "execution_count": 146,
     "metadata": {},
     "output_type": "execute_result"
    }
   ],
   "source": [
    "df[\"income_rank_p\"].isna().value_counts()"
   ]
  },
  {
   "cell_type": "markdown",
   "metadata": {},
   "source": [
    "<h2>Achievement Goal</h2>"
   ]
  },
  {
   "cell_type": "code",
   "execution_count": 147,
   "metadata": {},
   "outputs": [],
   "source": [
    "# achievement goal\n",
    "# 3차\n",
    "df = df.rename(columns = {'F2S01071': 'learning', 'F2S01072': 'betterperson', 'F2S01073': 'betterjob', 'F2S01074': 'futurework', 'F2S01075': 'forsociety', 'F2S01076': 'favorablejudg', 'F2S01077': 'popular', 'F2S01078': 'competition', 'F2S01079': 'forced', 'F2S01080': 'negativejudg', 'F2S01081': 'penalty'})"
   ]
  },
  {
   "cell_type": "code",
   "execution_count": 148,
   "metadata": {},
   "outputs": [],
   "source": [
    "# 4차 90은 money인데 3차에는 없음\n",
    "df.loc[df['year'] == 2004, 'learning'] = df['F3S01087']\n",
    "df.loc[df['year'] == 2004, 'betterperson'] = df['F3S01088']\n",
    "df.loc[df['year'] == 2004, 'betterjob'] = df['F3S01089']\n",
    "df.loc[df['year'] == 2004, 'futurework'] = df['F3S01091']\n",
    "df.loc[df['year'] == 2004, 'forsociety'] = df['F3S01092']\n",
    "df.loc[df['year'] == 2004, 'favorablejudg'] = df['F3S01093']\n",
    "df.loc[df['year'] == 2004, 'popular'] = df['F3S01094']\n",
    "df.loc[df['year'] == 2004, 'competition'] = df['F3S01095']\n",
    "df.loc[df['year'] == 2004, 'forced'] = df['F3S01096']\n",
    "df.loc[df['year'] == 2004, 'negativejudg'] = df['F3S01097']\n",
    "df.loc[df['year'] == 2004, 'penalty'] = df['F3S01098']"
   ]
  },
  {
   "cell_type": "code",
   "execution_count": 149,
   "metadata": {},
   "outputs": [],
   "source": [
    "# achievement goal\n",
    "# 3차\n",
    "goal_list = ['learning', 'betterperson', 'betterjob', 'futurework', 'forsociety', 'favorablejudg',  'popular',  'competition', 'forced', 'negativejudg',  'penalty']\n",
    "for i in goal_list:\n",
    "    df = df[df[i]>0]"
   ]
  },
  {
   "cell_type": "code",
   "execution_count": 150,
   "metadata": {},
   "outputs": [],
   "source": [
    "drop_list = []\n",
    "\n",
    "for i in range(87, 99):\n",
    "    df = df.drop('F3S010'+str(i), axis = 1)"
   ]
  },
  {
   "cell_type": "code",
   "execution_count": 159,
   "metadata": {},
   "outputs": [
    {
     "data": {
      "text/plain": [
       "3848"
      ]
     },
     "execution_count": 159,
     "metadata": {},
     "output_type": "execute_result"
    }
   ],
   "source": [
    "len(df)"
   ]
  },
  {
   "cell_type": "code",
   "execution_count": 152,
   "metadata": {},
   "outputs": [],
   "source": [
    "df.loc[df['hs_group'] == 0, 'typeofschool'] = 0\n",
    "df = df[df['typeofschool']>=0]"
   ]
  },
  {
   "cell_type": "code",
   "execution_count": 163,
   "metadata": {},
   "outputs": [],
   "source": [
    "pyreadstat.write_sav(df, 'df.sav')"
   ]
  },
  {
   "cell_type": "code",
   "execution_count": 164,
   "metadata": {},
   "outputs": [],
   "source": [
    "id_list = df3['BYSID'].to_list()"
   ]
  },
  {
   "cell_type": "code",
   "execution_count": 166,
   "metadata": {},
   "outputs": [
    {
     "data": {
      "text/html": [
       "<div>\n",
       "<style scoped>\n",
       "    .dataframe tbody tr th:only-of-type {\n",
       "        vertical-align: middle;\n",
       "    }\n",
       "\n",
       "    .dataframe tbody tr th {\n",
       "        vertical-align: top;\n",
       "    }\n",
       "\n",
       "    .dataframe thead th {\n",
       "        text-align: right;\n",
       "    }\n",
       "</style>\n",
       "<table border=\"1\" class=\"dataframe\">\n",
       "  <thead>\n",
       "    <tr style=\"text-align: right;\">\n",
       "      <th></th>\n",
       "      <th>BYSID</th>\n",
       "      <th>BYHID</th>\n",
       "      <th>GENDER</th>\n",
       "      <th>BYSCLASS</th>\n",
       "      <th>region</th>\n",
       "      <th>typeofschool</th>\n",
       "      <th>F2S01004</th>\n",
       "      <th>F2S01005</th>\n",
       "      <th>F2S01006</th>\n",
       "      <th>F2S01007</th>\n",
       "      <th>...</th>\n",
       "      <th>F3H12023</th>\n",
       "      <th>F3H12024</th>\n",
       "      <th>F3H12025</th>\n",
       "      <th>F3H12026</th>\n",
       "      <th>F3H12027</th>\n",
       "      <th>F3H13001</th>\n",
       "      <th>F3H13002</th>\n",
       "      <th>F3H13003</th>\n",
       "      <th>F3H13004</th>\n",
       "      <th>income_rank_p</th>\n",
       "    </tr>\n",
       "  </thead>\n",
       "  <tbody>\n",
       "    <tr>\n",
       "      <th>0</th>\n",
       "      <td>1003.0</td>\n",
       "      <td>10031.0</td>\n",
       "      <td>1.0</td>\n",
       "      <td>1.0</td>\n",
       "      <td>8.0</td>\n",
       "      <td>2.0</td>\n",
       "      <td>1.0</td>\n",
       "      <td>0.0</td>\n",
       "      <td>1.0</td>\n",
       "      <td>0.0</td>\n",
       "      <td>...</td>\n",
       "      <td>NaN</td>\n",
       "      <td>NaN</td>\n",
       "      <td>NaN</td>\n",
       "      <td>NaN</td>\n",
       "      <td>NaN</td>\n",
       "      <td>NaN</td>\n",
       "      <td>NaN</td>\n",
       "      <td>NaN</td>\n",
       "      <td>NaN</td>\n",
       "      <td>0.547619</td>\n",
       "    </tr>\n",
       "    <tr>\n",
       "      <th>1521</th>\n",
       "      <td>1003.0</td>\n",
       "      <td>10031.0</td>\n",
       "      <td>1.0</td>\n",
       "      <td>1.0</td>\n",
       "      <td>8.0</td>\n",
       "      <td>7.0</td>\n",
       "      <td>NaN</td>\n",
       "      <td>NaN</td>\n",
       "      <td>NaN</td>\n",
       "      <td>NaN</td>\n",
       "      <td>...</td>\n",
       "      <td>-5.0</td>\n",
       "      <td>-5.0</td>\n",
       "      <td>-5.0</td>\n",
       "      <td>1.0</td>\n",
       "      <td>2.0</td>\n",
       "      <td>2.0</td>\n",
       "      <td>1.0</td>\n",
       "      <td>1.0</td>\n",
       "      <td>2.0</td>\n",
       "      <td>0.369748</td>\n",
       "    </tr>\n",
       "  </tbody>\n",
       "</table>\n",
       "<p>2 rows × 1062 columns</p>\n",
       "</div>"
      ],
      "text/plain": [
       "       BYSID    BYHID  GENDER  BYSCLASS  region  typeofschool  F2S01004  \\\n",
       "0     1003.0  10031.0     1.0       1.0     8.0           2.0       1.0   \n",
       "1521  1003.0  10031.0     1.0       1.0     8.0           7.0       NaN   \n",
       "\n",
       "      F2S01005  F2S01006  F2S01007  ...  F3H12023  F3H12024  F3H12025  \\\n",
       "0          0.0       1.0       0.0  ...       NaN       NaN       NaN   \n",
       "1521       NaN       NaN       NaN  ...      -5.0      -5.0      -5.0   \n",
       "\n",
       "      F3H12026  F3H12027  F3H13001  F3H13002  F3H13003  F3H13004  \\\n",
       "0          NaN       NaN       NaN       NaN       NaN       NaN   \n",
       "1521       1.0       2.0       2.0       1.0       1.0       2.0   \n",
       "\n",
       "      income_rank_p  \n",
       "0          0.547619  \n",
       "1521       0.369748  \n",
       "\n",
       "[2 rows x 1062 columns]"
      ]
     },
     "execution_count": 166,
     "metadata": {},
     "output_type": "execute_result"
    }
   ],
   "source": [
    "df.loc[df['BYSID'] == 1003.0]"
   ]
  },
  {
   "cell_type": "code",
   "execution_count": null,
   "metadata": {},
   "outputs": [],
   "source": []
  }
 ],
 "metadata": {
  "kernelspec": {
   "display_name": "Python 3",
   "language": "python",
   "name": "python3"
  },
  "language_info": {
   "codemirror_mode": {
    "name": "ipython",
    "version": 3
   },
   "file_extension": ".py",
   "mimetype": "text/x-python",
   "name": "python",
   "nbconvert_exporter": "python",
   "pygments_lexer": "ipython3",
   "version": "3.7.6"
  }
 },
 "nbformat": 4,
 "nbformat_minor": 4
}
